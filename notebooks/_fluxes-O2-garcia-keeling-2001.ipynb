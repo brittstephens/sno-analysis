{
 "cells": [
  {
   "cell_type": "markdown",
   "id": "4add7e55-c642-4322-a055-534a300bf147",
   "metadata": {},
   "source": [
    "# Assemble Garcia & Keeling 2001 O$_2$ flux product"
   ]
  },
  {
   "cell_type": "code",
   "execution_count": 9,
   "id": "initial-slide",
   "metadata": {},
   "outputs": [
    {
     "name": "stdout",
     "output_type": "stream",
     "text": [
      "The autoreload extension is already loaded. To reload it, use:\n",
      "  %reload_ext autoreload\n"
     ]
    }
   ],
   "source": [
    "%load_ext autoreload\n",
    "%autoreload 2"
   ]
  },
  {
   "cell_type": "code",
   "execution_count": 10,
   "id": "stuck-uncle",
   "metadata": {},
   "outputs": [],
   "source": [
    "import os\n",
    "from datetime import datetime\n",
    "\n",
    "import numpy as np\n",
    "import xarray as xr\n",
    "\n",
    "from netCDF4 import default_fillvals\n",
    "\n",
    "import matplotlib.pyplot as plt\n",
    "\n",
    "import config\n",
    "import fgo2_gk2001"
   ]
  },
  {
   "cell_type": "markdown",
   "id": "ecf8cf86-e5a7-4ee4-85c3-60be4067597e",
   "metadata": {},
   "source": [
    "### Generate datasets\n",
    "\n",
    "### Shifting and scaling\n",
    "The recommended Garcia and Keeling rescaling is 0.82 \n",
    "(Naegler 2006 vs. Wanninkhof 1992 scaling factors 0.32/0.39), plus a 10-day shift later, to allow for mixed layer equilibration."
   ]
  },
  {
   "cell_type": "code",
   "execution_count": null,
   "id": "c81738df-cf33-4b85-a56b-61ffc758dadb",
   "metadata": {},
   "outputs": [],
   "source": [
    "ds = fgo2_gk2001.open_flux_dataset(shift_time=10., scaleby=0.82, clobber=True)\n",
    "ds"
   ]
  },
  {
   "cell_type": "code",
   "execution_count": null,
   "id": "91d00b01-1135-43d4-aa1c-1e857a129a0a",
   "metadata": {},
   "outputs": [],
   "source": [
    "ds.fgo2_sea.mean(\"lon\").T.plot()"
   ]
  },
  {
   "cell_type": "code",
   "execution_count": null,
   "id": "22b3c7ac-051a-4854-9eac-3b45bd0ca3b6",
   "metadata": {},
   "outputs": [],
   "source": [
    "dsets_ann = {}\n",
    "for product in [\"Gruber\", \"Resplandy\"]:\n",
    "    fig = plt.figure()    \n",
    "    ds_ann = fgo2_gk2001.open_inversion_annual_flux(product, gk_grid=True)\n",
    "    ds_ann.fgo2.plot(vmin=-8., vmax=8., cmap='RdBu_r')\n",
    "    dsets_ann[product] = ds_ann\n",
    "    glb_sum = (ds_ann.fgo2 * ds_ann.area).sum() / 1e12\n",
    "    plt.title(f\"{glb_sum.values:0.4f} Tmol/y\")\n",
    "    fig.suptitle(product, fontweight=\"bold\")    \n",
    "ds_ann.fgo2  "
   ]
  },
  {
   "cell_type": "markdown",
   "id": "b0ae397b-d38d-4a27-bd6b-201d5b10c2cf",
   "metadata": {},
   "source": [
    "### Make some quick plots of the fluxes"
   ]
  },
  {
   "cell_type": "markdown",
   "id": "2d1daac9-3f27-4bce-8c5a-b1a11d2383af",
   "metadata": {},
   "source": [
    "## Apply annual mean fluxes from Gruber et al. 2001 & Resplandy et al. 2016"
   ]
  },
  {
   "cell_type": "code",
   "execution_count": null,
   "id": "e3f8930e-49aa-408d-8636-68eec73c7b1d",
   "metadata": {},
   "outputs": [],
   "source": [
    "dirout = config.flux_product_dir\n",
    "clobber = True\n",
    "dsets = {}\n",
    "for product in [\"Gruber\", \"Resplandy\"]:\n",
    "\n",
    "    dso = ds[[\"fgo2_sea\", \"fgo2_thm_sea\", \"fgo2_bio_sea\", \"area\"]]    \n",
    "    dso[\"fgo2\"] = xr.full_like(ds.fgo2_sea, fill_value=0.)\n",
    "    dso.fgo2.values = ds.fgo2_sea + dsets_ann[product].fgo2\n",
    "    dso.fgo2.attrs[\"long_name\"] = f\"GK01 O$_2$ seasonal flux w/ {product} ann mean\"\n",
    "    dso.fgo2.encoding[\"_FillValue\"] =  default_fillvals[\"f8\"]\n",
    "\n",
    "    for v in dso.data_vars:\n",
    "        if \"_FillValue\" not in dso[v].encoding:\n",
    "            dso[v].encoding[\"_FillValue\"] = None\n",
    "\n",
    "    dsets[product] = dso\n",
    "    \n",
    "    file_out = f\"{dirout}/garcia-keeling.fgo2.{product.lower()}_ann.nc\"    \n",
    "    if clobber and os.path.exists(file_out):\n",
    "        os.remove(file_out)\n",
    "    if not os.path.exists(file_out):\n",
    "        dso.to_netcdf(file_out)"
   ]
  },
  {
   "cell_type": "code",
   "execution_count": null,
   "id": "b7ca3da8-0470-4917-8312-fe7d7c6dfe1a",
   "metadata": {},
   "outputs": [],
   "source": []
  }
 ],
 "metadata": {
  "kernelspec": {
   "display_name": "Python [conda env:miniconda3-sno]",
   "language": "python",
   "name": "conda-env-miniconda3-sno-py"
  },
  "language_info": {
   "codemirror_mode": {
    "name": "ipython",
    "version": 3
   },
   "file_extension": ".py",
   "mimetype": "text/x-python",
   "name": "python",
   "nbconvert_exporter": "python",
   "pygments_lexer": "ipython3",
   "version": "3.7.10"
  }
 },
 "nbformat": 4,
 "nbformat_minor": 5
}
