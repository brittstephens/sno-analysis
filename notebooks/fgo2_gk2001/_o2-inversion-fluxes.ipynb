{
 "cells": [
  {
   "cell_type": "code",
   "execution_count": null,
   "id": "313ad763-d7ce-4861-98f3-42c1dfb40fdd",
   "metadata": {},
   "outputs": [],
   "source": [
    "%load_ext autoreload\n",
    "%autoreload 2"
   ]
  },
  {
   "cell_type": "code",
   "execution_count": null,
   "id": "eeb802ba-b135-48c1-9d59-87462f1d7856",
   "metadata": {},
   "outputs": [],
   "source": [
    "import matplotlib.pyplot as plt\n",
    "import annual_inversions"
   ]
  },
  {
   "cell_type": "code",
   "execution_count": null,
   "id": "51d66850-e39e-44af-a450-99943effee91",
   "metadata": {},
   "outputs": [],
   "source": [
    "%%time\n",
    "ds = annual_inversions.open_mask_dataset(clobber=False)\n",
    "ds"
   ]
  },
  {
   "cell_type": "code",
   "execution_count": null,
   "id": "5758ff3f-c5c7-4b94-a302-e4624caeecbc",
   "metadata": {},
   "outputs": [],
   "source": [
    "fig = plt.figure()\n",
    "ds.mask.plot(vmin=0, vmax=12)"
   ]
  },
  {
   "cell_type": "code",
   "execution_count": null,
   "id": "d1b39276-439d-48e5-88cb-31669e75cc7e",
   "metadata": {},
   "outputs": [],
   "source": [
    "for product in [\"Gruber\", \"Resplandy\"]:\n",
    "    basin = annual_inversions._get_basin_aggregation(product)\n",
    "    fig = plt.figure(figsize=(10, 10))\n",
    "    for i in range(len(basin.region)):\n",
    "        ax = fig.add_subplot(3,2,i+1)\n",
    "        basin.REGION_MASK_3D[i,:,:].plot(axes=ax)\n",
    "        ax.set_title(basin.region.values[i])\n",
    "        ax.set_xlabel(\"\")\n",
    "    fig.suptitle(product, fontweight=\"bold\", y=0.92)"
   ]
  },
  {
   "cell_type": "code",
   "execution_count": null,
   "id": "a446eeae-5cb8-442b-aeb4-ee67b1d480b8",
   "metadata": {},
   "outputs": [],
   "source": [
    "for product in [\"Gruber\", \"Resplandy\"]:\n",
    "    fig = plt.figure()\n",
    "    ds = annual_inversions._get_inversion_regions(product)\n",
    "    ds.REGION_MASK.plot(cmap='tab20c')\n",
    "    fig.suptitle(product, fontweight=\"bold\")"
   ]
  },
  {
   "cell_type": "code",
   "execution_count": null,
   "id": "dd90ab9f-b1f7-4628-8a06-6b61ae04499a",
   "metadata": {},
   "outputs": [],
   "source": [
    "for product in [\"Gruber\", \"Resplandy\"]:\n",
    "    print(annual_inversions._get_inversion_region_flux_table(product))"
   ]
  },
  {
   "cell_type": "code",
   "execution_count": null,
   "id": "c2525e9c-6c6d-4e09-9126-46bea94a93b2",
   "metadata": {},
   "outputs": [],
   "source": [
    "for product in [\"Gruber\", \"Resplandy\"]:\n",
    "    fig = plt.figure()    \n",
    "    ds = annual_inversions.open_inversion_annual_flux(product)\n",
    "\n",
    "    ax = fig.add_subplot(1, 2, 1)\n",
    "    ds.fgo2.plot(vmin=-8., vmax=8., cmap='RdBu_r')\n",
    "    \n",
    "    ax = fig.add_subplot(1, 2, 2)    \n",
    "    ds = annual_inversions.open_inversion_annual_flux(product, gk_grid=True)\n",
    "    ds.fgo2.plot(vmin=-8., vmax=8., cmap='RdBu_r')    \n",
    "    fig.suptitle(product, fontweight=\"bold\")    "
   ]
  },
  {
   "cell_type": "code",
   "execution_count": null,
   "id": "26074b01-6353-4845-a2b2-4f7976696ecb",
   "metadata": {},
   "outputs": [],
   "source": []
  }
 ],
 "metadata": {
  "kernelspec": {
   "display_name": "Python [conda env:miniconda3-sno]",
   "language": "python",
   "name": "conda-env-miniconda3-sno-py"
  },
  "language_info": {
   "codemirror_mode": {
    "name": "ipython",
    "version": 3
   },
   "file_extension": ".py",
   "mimetype": "text/x-python",
   "name": "python",
   "nbconvert_exporter": "python",
   "pygments_lexer": "ipython3",
   "version": "3.7.10"
  }
 },
 "nbformat": 4,
 "nbformat_minor": 5
}
