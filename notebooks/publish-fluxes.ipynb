{
 "cells": [
  {
   "cell_type": "code",
   "execution_count": null,
   "id": "49983391-cc1b-4acc-bb3b-0e2c50e8d6f6",
   "metadata": {},
   "outputs": [],
   "source": [
    "%load_ext autoreload\n",
    "%autoreload 2"
   ]
  },
  {
   "cell_type": "code",
   "execution_count": null,
   "id": "b7fd6e57-9c60-40cb-b6dc-519468f6c6b6",
   "metadata": {},
   "outputs": [],
   "source": [
    "import os\n",
    "\n",
    "import cftime\n",
    "import numpy as np\n",
    "import xarray as xr\n",
    "\n",
    "import matplotlib.pyplot as plt\n",
    "\n",
    "import config\n",
    "import util"
   ]
  },
  {
   "cell_type": "code",
   "execution_count": null,
   "id": "9198c892-d993-42f1-baac-67694feeb597",
   "metadata": {},
   "outputs": [],
   "source": [
    "catalog = util.curate_flux_products().open_catalog()\n",
    "catalog"
   ]
  },
  {
   "cell_type": "code",
   "execution_count": null,
   "id": "3c7007e3-5209-4d92-ac6a-0caa75da3b4c",
   "metadata": {},
   "outputs": [],
   "source": [
    "cat_keys = list(catalog._entries.keys())\n",
    "catalog._entries"
   ]
  },
  {
   "cell_type": "code",
   "execution_count": null,
   "id": "81aa4f51-3faf-422b-bc57-70eae5f5a437",
   "metadata": {},
   "outputs": [],
   "source": [
    "USER = os.environ['USER']\n",
    "dirout = f'/glade/scratch/{USER}/sno-flux-products'\n",
    "os.makedirs(dirout, exist_ok=True)"
   ]
  },
  {
   "cell_type": "code",
   "execution_count": null,
   "id": "9011568c-b5ed-4188-ac96-7bad866d7258",
   "metadata": {},
   "outputs": [],
   "source": [
    "dso_grid = util.generate_latlon_grid(**config.config_dict[\"flux-dst-grid-kwargs\"])[[\"area\"]]\n",
    "dso_grid"
   ]
  },
  {
   "cell_type": "code",
   "execution_count": null,
   "id": "c3336402-ebc9-46c3-b1f3-178b640db0ff",
   "metadata": {},
   "outputs": [],
   "source": [
    "cluster, client = util.get_ClusterClient()\n",
    "cluster.scale(12)\n",
    "\n",
    "client"
   ]
  },
  {
   "cell_type": "code",
   "execution_count": null,
   "id": "6eec8929-b60a-41e3-9227-be6de018b86d",
   "metadata": {},
   "outputs": [],
   "source": [
    "def get_varname_from_key(key, dsi):\n",
    "    varname = key.split('.')[0]    \n",
    "    if varname not in dsi.data_vars:\n",
    "        varname = f'{varname}_ocn'\n",
    "    assert varname in dsi.data_vars        \n",
    "    return varname"
   ]
  },
  {
   "cell_type": "code",
   "execution_count": null,
   "id": "c46b6b85-9b9a-4469-8b89-b0e9bf897d3b",
   "metadata": {
    "tags": []
   },
   "outputs": [],
   "source": [
    "year_range = 1999, 2018\n",
    "\n",
    "time_units = 'days since 1990-01-01 00:00:00'\n",
    "daily_time, daily_time_bnds = util.gen_daily_cftime_coord(year_range)        \n",
    "\n",
    "\n",
    "dsets = {}\n",
    "for key in cat_keys:\n",
    "    dsi = catalog[key].to_dask()    \n",
    "    varname = get_varname_from_key(key, dsi)\n",
    "    is_climatology = 'climatology' in dsi.time.attrs\n",
    "    \n",
    "    if is_climatology:\n",
    "        file_out = f'{dirout}/{key}.1x1.repeat_monclim.{year_range[0]}0101-{year_range[1]}1231.nc' \n",
    "    else:\n",
    "        file_out = f'{dirout}/{key}.1x1.{year_range[0]}0101-{year_range[1]}1231.nc' \n",
    "        \n",
    "    \n",
    "    # if it's a monthly climatology, repeat it for the period of interest ± 1 year\n",
    "    if is_climatology:\n",
    "        data = np.concatenate([dsi[varname].data for i in range(year_range[0] - 1, year_range[1] + 2)], axis=0)                \n",
    "        var_attrs = dsi[varname].attrs\n",
    "        monthly_time, monthly_time_bounds = util.gen_midmonth_cftime_coord([year_range[0] - 1, year_range[1] + 1])\n",
    "        monthly_time_num = xr.DataArray(\n",
    "            cftime.date2num(monthly_time, units=dsi.time.units),\n",
    "            dims=('time'),\n",
    "            attrs={'units': dsi.time.units, 'bounds': 'time_bnds'},\n",
    "        )\n",
    "        monthly_time_bounds_num = xr.DataArray(\n",
    "            cftime.date2num(monthly_time_bounds, units=dsi.time.units),\n",
    "            dims=('time', 'd2'),\n",
    "        )        \n",
    "        \n",
    "        dims = dsi[varname].dims        \n",
    "        dsi = dsi[[v for v in dsi.variables if 'time' not in dsi[v].dims]]\n",
    "        \n",
    "        dsi[varname] = xr.DataArray(data, dims=dims, \n",
    "                                    coords={'time': monthly_time_num},\n",
    "                                    attrs=var_attrs,\n",
    "                                    name=varname,                                    \n",
    "                                   )\n",
    "        dsi['time_bnds'] = monthly_time_bounds_num\n",
    "        dsi['time'] = monthly_time_num\n",
    "        \n",
    "    \n",
    "    daily_time, daily_time_bnds = util.gen_daily_cftime_coord(year_range)        \n",
    "    daily_time_num_data = cftime.date2num(daily_time, units=dsi.time.units)\n",
    "        \n",
    "    # interpolate\n",
    "    drop_list = [v for v in dsi.data_vars if 'time' in dsi[v].dims and v != varname]\n",
    "    dsi_daily = dsi.drop(drop_list).interp(time=daily_time_num_data)\n",
    "\n",
    "    dsi_daily['time'] = daily_time\n",
    "    dsi_daily.time.encoding['units'] = time_units    \n",
    "    dsi_daily[daily_time.bounds] = daily_time_bnds    \n",
    "    \n",
    "    dsi_daily['time_components'] = util.gen_time_components_variable(daily_time)\n",
    "\n",
    "    for v in ['area', 'lat', 'lon']:\n",
    "        dsi_daily[v] = dso_grid[v]\n",
    "    \n",
    "    assert dsi_daily[varname].attrs['units'] == 'mol/m^2/s'\n",
    "        \n",
    "    util.to_netcdf_clean(dsi_daily, file_out)\n",
    "    dsets[key] = dsi_daily\n",
    "    \n",
    "dsi_daily"
   ]
  },
  {
   "cell_type": "code",
   "execution_count": null,
   "id": "289bf98f-1674-4ac5-91a3-b907ae821727",
   "metadata": {
    "tags": []
   },
   "outputs": [],
   "source": [
    "dsi = dsets[cat_keys[0]]\n",
    "\n",
    "region = xr.DataArray(['NET', 'SET'], dims=('region'), name='region')\n",
    "masked_area = xr.concat([\n",
    "    dsi.area.where((dsi.lat >= 20)),\n",
    "    dsi.area.where((dsi.lat <= -20)),    \n",
    "],\n",
    "    dim=region,\n",
    ")\n",
    "masked_area.isel(region=0).plot()"
   ]
  },
  {
   "cell_type": "code",
   "execution_count": null,
   "id": "7205547b-c09d-4c73-b1c6-6fc86cdc5e95",
   "metadata": {},
   "outputs": [],
   "source": [
    "sel_year = '2009'\n",
    "\n",
    "for key in cat_keys:\n",
    "    print(key)\n",
    "    \n",
    "    dsi = dsets[key].sel(time=sel_year)\n",
    "    v = get_varname_from_key(key, dsi)    \n",
    "    assert dsi[v].units in ['mol/m^2/s', 'mol m-2 s-1']\n",
    "    \n",
    "    masked_area = xr.concat([\n",
    "        dsi.area.where((dsi.lat >= 20)),\n",
    "        dsi.area.where((dsi.lat <= -20)),    \n",
    "    ],\n",
    "        dim=region,\n",
    "    )    \n",
    "    \n",
    "    plt.figure()\n",
    "    \n",
    "    global_sum = ((dsi[v] * dsi.area).sum(['lat', 'lon'])).sum('time').values * 1e-12 * 86400.\n",
    "    print(f'GLB {key}: {global_sum:04f} Tmol/yr')\n",
    "    \n",
    "    with xr.set_options(keep_attrs=True):\n",
    "        dsi_region = (dsi[[v]] * masked_area).sum(['lat', 'lon']) * 1e-12 * 86400.\n",
    "        dsi_region[v].attrs['units'] = 'Tmol day$^{-1}$'\n",
    "        dsi_mon = dsi_region * 365. / 12.\n",
    "        dsi_mon[v].attrs['units'] = 'Tmol month$^{-1}$'\n",
    "    \n",
    "    for region_name in dsi_region.region.values:   \n",
    "        da = dsi_region[v].sel(region=region_name, drop=True)        \n",
    "        regional_sum = da.sum('time').values\n",
    "        da_mon = dsi_mon[v].sel(region=region_name, drop=True)     \n",
    "        \n",
    "        #da.plot(label=region_name)\n",
    "        da_mon.plot(label=region_name)\n",
    "        print(f'{region_name} {key}: {regional_sum} Tmol/yr')        \n",
    "    \n",
    "    plt.title(f'{key} ({sel_year})')\n",
    "    plt.legend();\n",
    "    print()"
   ]
  },
  {
   "cell_type": "code",
   "execution_count": null,
   "id": "23d1a83b-0624-4da4-927e-bcd4af19bb69",
   "metadata": {},
   "outputs": [],
   "source": [
    "client.close()\n",
    "cluster.close()"
   ]
  },
  {
   "cell_type": "code",
   "execution_count": null,
   "id": "a768460c-f5f2-465c-97cc-6a61ca216dfa",
   "metadata": {},
   "outputs": [],
   "source": []
  }
 ],
 "metadata": {
  "kernelspec": {
   "display_name": "Python [conda env:miniconda3-sno]",
   "language": "python",
   "name": "conda-env-miniconda3-sno-py"
  },
  "language_info": {
   "codemirror_mode": {
    "name": "ipython",
    "version": 3
   },
   "file_extension": ".py",
   "mimetype": "text/x-python",
   "name": "python",
   "nbconvert_exporter": "python",
   "pygments_lexer": "ipython3",
   "version": "3.7.10"
  }
 },
 "nbformat": 4,
 "nbformat_minor": 5
}
