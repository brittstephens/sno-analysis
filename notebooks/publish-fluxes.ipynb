{
 "cells": [
  {
   "cell_type": "code",
   "execution_count": 2,
   "id": "b7fd6e57-9c60-40cb-b6dc-519468f6c6b6",
   "metadata": {},
   "outputs": [],
   "source": [
    "from glob import glob\n",
    "import config"
   ]
  },
  {
   "cell_type": "code",
   "execution_count": 5,
   "id": "9198c892-d993-42f1-baac-67694feeb597",
   "metadata": {},
   "outputs": [
    {
     "data": {
      "text/plain": [
       "['/glade/campaign/cgd/oce/people/mclong/sno-analysis/flux-products/CarboScope.apo99_v2020.fgapo.nc',\n",
       " '/glade/campaign/cgd/oce/people/mclong/sno-analysis/flux-products/garcia-keeling.fgo2.gruber_ann.nc',\n",
       " '/glade/campaign/cgd/oce/people/mclong/sno-analysis/flux-products/garcia-keeling.fgo2.resplandy_ann.nc']"
      ]
     },
     "execution_count": 5,
     "metadata": {},
     "output_type": "execute_result"
    }
   ],
   "source": [
    "files = sorted(glob(f\"{config.flux_product_dir}/*.nc\"))\n",
    "files"
   ]
  },
  {
   "cell_type": "code",
   "execution_count": 7,
   "id": "e302321f-07c5-41f8-91e2-d886a1bac752",
   "metadata": {},
   "outputs": [
    {
     "data": {
      "text/plain": [
       "['https://tds.ucar.edu/thredds/fileServer/datazone/campaign/cgd/oce/people/mclong/sno-analysis/flux-products/CarboScope.apo99_v2020.fgapo.nc',\n",
       " 'https://tds.ucar.edu/thredds/fileServer/datazone/campaign/cgd/oce/people/mclong/sno-analysis/flux-products/garcia-keeling.fgo2.gruber_ann.nc',\n",
       " 'https://tds.ucar.edu/thredds/fileServer/datazone/campaign/cgd/oce/people/mclong/sno-analysis/flux-products/garcia-keeling.fgo2.resplandy_ann.nc']"
      ]
     },
     "execution_count": 7,
     "metadata": {},
     "output_type": "execute_result"
    }
   ],
   "source": [
    "base_url = \"https://tds.ucar.edu/thredds/fileServer/datazone/campaign\"\n",
    "url_list = []\n",
    "for f in files:\n",
    "    f_url_path = f.replace(\"/glade/campaign/\", \"\")\n",
    "    url_list.append(f\"{base_url}/{f_url_path}\")\n",
    "    \n",
    "url_list    "
   ]
  },
  {
   "cell_type": "code",
   "execution_count": null,
   "id": "3c7007e3-5209-4d92-ac6a-0caa75da3b4c",
   "metadata": {},
   "outputs": [],
   "source": []
  }
 ],
 "metadata": {
  "kernelspec": {
   "display_name": "Python [conda env:miniconda3-sno]",
   "language": "python",
   "name": "conda-env-miniconda3-sno-py"
  },
  "language_info": {
   "codemirror_mode": {
    "name": "ipython",
    "version": 3
   },
   "file_extension": ".py",
   "mimetype": "text/x-python",
   "name": "python",
   "nbconvert_exporter": "python",
   "pygments_lexer": "ipython3",
   "version": "3.7.11"
  }
 },
 "nbformat": 4,
 "nbformat_minor": 5
}
