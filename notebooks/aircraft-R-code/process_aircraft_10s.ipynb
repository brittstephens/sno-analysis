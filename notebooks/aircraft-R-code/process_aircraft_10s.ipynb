{
 "cells": [
  {
   "cell_type": "markdown",
   "id": "d60f2607-ab63-4ff4-9c07-60b5b6b3beb3",
   "metadata": {
    "tags": []
   },
   "source": [
    "# Process airborne 10-sec merge files\n",
    "- R Program to read in HIPPO, ORCAS, and ATom 10-sec merge files, massage time variables, add a strat flag, subset, \n",
    "- write to RData objects for use by other programs (aircraft_obspack_merge.ipynb, process_aircraft_med.ipynb, and process_aircraft_pfp.ipynb)\n",
    "- then filter aircraft data for strong local continental influences, subtract off NOAA in situ SPO, and write out flat text files"
   ]
  },
  {
   "cell_type": "code",
   "execution_count": 1,
   "id": "f1f7528d-5fc3-4486-9956-8d004ed1dcb0",
   "metadata": {},
   "outputs": [],
   "source": [
    "library('ncdf4')\n",
    "library('yaml')"
   ]
  },
  {
   "cell_type": "code",
   "execution_count": 2,
   "id": "c0b9993a-8049-4295-b55e-77791e7beadb",
   "metadata": {},
   "outputs": [],
   "source": [
    "project_tmpdir_obs = read_yaml('../_config_calc.yml')$project_tmpdir_obs\n",
    "username = Sys.info()['user']\n",
    "project_tmpdir_obs = gsub('\\\\{\\\\{env\\\\[\\'USER\\'\\\\]\\\\}\\\\}', username, project_tmpdir_obs)"
   ]
  },
  {
   "cell_type": "code",
   "execution_count": 3,
   "id": "97a4d4c1-cf81-419d-9015-e71a7a6ad5a4",
   "metadata": {},
   "outputs": [],
   "source": [
    "# specify aircraft data file names\n",
    "hippomergefile=paste(project_tmpdir_obs,'/aircraft-merge-products/HIPPO_all_missions_merge_10s_20121129.tbl',sep='') # this is the official HIPPO merge product\n",
    "atommergedir=paste(project_tmpdir_obs,'/aircraft-merge-products',sep='') # these are version 2.0 (21-08-26)\n",
    "atommergefiles=c('MER10_DC8_ATom-1.nc','MER10_DC8_ATom-2.nc','MER10_DC8_ATom-3.nc','MER10_DC8_ATom-4.nc') \n",
    "orcasmergefile=paste(project_tmpdir_obs,'/aircraft-merge-products/ORCASall.merge10.tbl',sep='') # original release version"
   ]
  },
  {
   "cell_type": "code",
   "execution_count": 4,
   "id": "f2dcfcb0-5781-454f-8786-be6927c51fcc",
   "metadata": {},
   "outputs": [],
   "source": [
    "# set strat flag cutoffs for use below based upon Jin et al., 2021 (https://doi.org/10.5194/acp-21-217-2021)\n",
    "stratcoh2o=50\n",
    "stratcoo3=150\n",
    "stratcon2o=319"
   ]
  },
  {
   "cell_type": "code",
   "execution_count": 5,
   "id": "fdb0a2a2-3266-4f78-ad81-5d96af21a11c",
   "metadata": {},
   "outputs": [],
   "source": [
    "# read in global N2O for detrending aircraft N2O\n",
    "glbn2ofile=url('ftp://aftp.cmdl.noaa.gov/products/trends/n2o/n2o_annmean_gl.txt')\n",
    "hlines=61\n",
    "glbn2o=read.table(glbn2ofile,skip=hlines,header=F,stringsAsFactors=F)\n",
    "colnames(glbn2o)=c('year','n2o','unc')"
   ]
  },
  {
   "cell_type": "markdown",
   "id": "7b56791e-840c-4ad9-9f4c-cb44a4ede192",
   "metadata": {},
   "source": [
    "# Read in HIPPO file, calc strat flag, subset, and output"
   ]
  },
  {
   "cell_type": "code",
   "execution_count": 6,
   "id": "2e7bf67b-4f12-47b8-b550-3ecefdfa1217",
   "metadata": {},
   "outputs": [],
   "source": [
    "# read and add time variables\n",
    "hippomerge=read.table(hippomergefile,header=T)\n",
    "hippodt=strptime(paste(hippomerge[,\"Year\"],hippomerge[,\"DOY\"]),format='%Y %j',tz='UTC')+hippomerge[,\"UTC\"] \n",
    "# DOY is day of year of takeoff; UTC is seconds since midnight on day of takeoff\n",
    "hippomerge$Month=as.POSIXlt(hippodt)$mon+1\n",
    "hippomerge$Day=as.POSIXlt(hippodt)$mday\n",
    "hippomerge$Hour=as.POSIXlt(hippodt)$hour\n",
    "hippomerge$Min=as.POSIXlt(hippodt)$min\n",
    "hippomerge$Sec=as.POSIXlt(hippodt)$sec"
   ]
  },
  {
   "cell_type": "code",
   "execution_count": 7,
   "id": "2758b4f4-dba2-4b46-87b8-f3cfbae24174",
   "metadata": {},
   "outputs": [],
   "source": [
    "# add strat flag\n",
    "hippomerge$strat=rep(0,nrow(hippomerge)) # 0 means trop\n",
    "h2oref=hippomerge$H2Oppmv_vxl; h2oref[is.na(h2oref)]=hippomerge$H2O_UWV[is.na(h2oref)]\n",
    "hippomerge$h2oref=h2oref # for output\n",
    "h2oref[is.na(h2oref)]=0 # if H2O missing treat as if potentially strat\n",
    "n2oref=hippomerge$N2O_QCLS; n2oref[is.na(n2oref)]=hippomerge$N2O_P[is.na(n2oref)]; n2oref[is.na(n2oref)]=hippomerge$N2O_UGC[is.na(n2oref)]\n",
    "n2oref=n2oref-(approx(glbn2o$year+0.5,glbn2o$n2o,hippomerge$Year+hippomerge$DOY/365)$y-glbn2o$n2o[glbn2o$year==2009])\n",
    "hippomerge$n2oref=n2oref # for output\n",
    "n2oref[is.na(n2oref)]=400 # if N2O missing do not use for filter\n",
    "o3ref=hippomerge$O3_ppb; o3ref[is.na(o3ref)]=hippomerge$O3_UO3[is.na(o3ref)]\n",
    "hippomerge$o3ref=o3ref # for output\n",
    "o3ref[is.na(o3ref)]=0 # if O3 missing do not use for filter\n",
    "hippomerge$strat[h2oref<stratcoh2o&(o3ref>stratcoo3|n2oref<stratcon2o|(o3ref==0&n2oref==400))]=1 \n",
    "# if either o3 or n2o criteria are met, or if both are missing, consider strat\n",
    "hippomerge$strat[h2oref==0&o3ref==0&n2oref==400&hippomerge$GGALT<8000]=0 # if all 3 missing assume < 8 km is trop"
   ]
  },
  {
   "cell_type": "code",
   "execution_count": 8,
   "id": "30c3a4dd-a640-4534-93bb-4ee03bf4d8ab",
   "metadata": {},
   "outputs": [],
   "source": [
    "# select columns and save\n",
    "colsel=c('Year','Month','Day','Hour','Min','Sec','H.no','flt','n.prof','GGLAT','GGLON','GGALT','PSXC','THETA','CO2.X',\n",
    "         'CO2_QCLS','CO2_OMS','CO2_AO2','CH4_QCLS','CH4_UGC','CH4_P','SF6_P','SF6_UGC','SF6_CCG','strat','h2oref','n2oref','o3ref')\n",
    "hippomerge=hippomerge[,is.element(colnames(hippomerge),colsel)]\n",
    "hippomerge=hippomerge[,match(colsel,names(hippomerge))] # reorder\n",
    "names(hippomerge)=c('year','mon','day','hour','min','sec','camp','flt','prof','lat','lon','alt','pressure','theta','co2','co2qcls','co2oms',\n",
    "                    'co2ao2','ch4qcls','ch4ucats','ch4panther','sf6panther','sf6ucats','sf6pfp','strat','h2oref','n2oref','o3ref') # 'co2' = CO2.X\n",
    "save('hippomerge',file='HIPPO_10s.RData')"
   ]
  },
  {
   "cell_type": "markdown",
   "id": "46ed92e8-c35b-4b43-99d1-b08fc1a145e9",
   "metadata": {},
   "source": [
    "# read in ORCAS file, calc strat flag, subset, and output"
   ]
  },
  {
   "cell_type": "code",
   "execution_count": 9,
   "id": "177e7c02-b87d-4007-9a95-0b6d0c7c716a",
   "metadata": {},
   "outputs": [],
   "source": [
    "# read and add time variables\n",
    "orcasmerge=read.table(orcasmergefile,header=T)\n",
    "orcasdt=strptime(paste(orcasmerge[,\"Year\"],orcasmerge[,\"DOY\"]),format='%Y %j',tz='UTC')+orcasmerge[,\"UTC\"] \n",
    "# DOY is day of year of takeoff; UTC is seconds since midnight on day of takeoff\n",
    "orcasmerge$Month=as.POSIXlt(orcasdt)$mon+1\n",
    "orcasmerge$Day=as.POSIXlt(orcasdt)$mday\n",
    "orcasmerge$Hour=as.POSIXlt(orcasdt)$hour\n",
    "orcasmerge$Min=as.POSIXlt(orcasdt)$min\n",
    "orcasmerge$Sec=as.POSIXlt(orcasdt)$sec"
   ]
  },
  {
   "cell_type": "code",
   "execution_count": 10,
   "id": "b11ec212-2a46-4e21-b46e-140f1731b55b",
   "metadata": {},
   "outputs": [],
   "source": [
    "# add strat flag\n",
    "orcasmerge$strat=rep(0,nrow(orcasmerge)) # 0 means trop\n",
    "h2oref=orcasmerge$VMR_VXL; h2oref[is.na(h2oref)]=orcasmerge$H2O_NOAA[is.na(h2oref)]\n",
    "orcasmerge$h2oref=h2oref # for output\n",
    "h2oref[is.na(h2oref)]=0 # if H2O missing treat as if potentially strat\n",
    "n2oref=orcasmerge$N2O_QCLS\n",
    "n2oref=n2oref-(approx(glbn2o$year+0.5,glbn2o$n2o,orcasmerge$Year+orcasmerge$DOY/365)$y-glbn2o$n2o[glbn2o$year==2009])\n",
    "orcasmerge$n2oref=n2oref # for output\n",
    "n2oref[is.na(n2oref)]=400 # if N2O missing do not use for filter\n",
    "orcasmerge$strat[h2oref<stratcoh2o&(n2oref<stratcon2o|n2oref==400)]=1 # no O3, if n2o criteria is met or missing, consider strat\n",
    "orcasmerge$strat[h2oref==0&n2oref==400&orcasmerge$G_ALT<8000]=0 # if both missing assume < 8 km is trop"
   ]
  },
  {
   "cell_type": "code",
   "execution_count": 11,
   "id": "eab1cf8c-8be1-4d90-b6d5-3ddc999ceca0",
   "metadata": {},
   "outputs": [],
   "source": [
    "# select columns and save\n",
    "colsel=c('Year','Month','Day','Hour','Min','Sec','flt','n.prof','GGLAT','GGLON','GGALT','PSXC','THETA','CO2.X',\n",
    "         'CO2_QCLS','CO2_NOAA','CO2_AO2','CH4_NOAA','CH4_QCLS','strat','h2oref','n2oref')\n",
    "orcasmerge=orcasmerge[,is.element(colnames(orcasmerge),colsel)]\n",
    "orcasmerge=orcasmerge[,match(colsel,names(orcasmerge))] # reorder\n",
    "names(orcasmerge)=c('year','mon','day','hour','min','sec','flt','prof','lat','lon','alt','pressure','theta','co2',\n",
    "                    'co2qcls','co2noaa','co2ao2','ch4noaa','ch4qcls','strat','h2oref','n2oref') # 'co2' = CO2.X\n",
    "save('orcasmerge',file='ORCAS_10s.RData')"
   ]
  },
  {
   "cell_type": "markdown",
   "id": "fb4604a5-3cf8-4921-863a-9cc95313760d",
   "metadata": {},
   "source": [
    "# read in ATom files, calc strat flag, subset, and output"
   ]
  },
  {
   "cell_type": "code",
   "execution_count": 12,
   "id": "26525bd8-8e5e-475c-b1a2-babd6c36bd45",
   "metadata": {},
   "outputs": [],
   "source": [
    "# read and add time variables\n",
    "atomvar=c('time','UTC_Start','Flight_Date','DLH-H2O/H2O_DLH','UCATS-H2O/H2O_UWV','QCLS-CH4-CO-N2O/N2O_QCLS','GCECD/N2O_PECD','UCATS-GC/N2O_UCATS',\n",
    "          'NOyO3-O3/O3_CL','UCATS-O3/O3_UCATS','MMS/G_ALT','RF','prof.no','MMS/P','MMS/POT','MMS/G_LAT','MMS/G_LONG','MMS/G_ALT','NOAA-Picarro/CO2_NOAA',\n",
    "          'QCLS-CO2/CO2_QCLS','AO2/CO2_AO2','CO2.X','NOAA-Picarro/CH4_NOAA','QCLS-CH4-CO-N2O/CH4_QCLS','UCATS-GC/CH4_UCATS','GCECD/CH4_PECD','GCECD/SF6_PECD',\n",
    "          'UCATS-GC/SF6_UCATS')\n",
    "atommerge=NULL\n",
    "for(i in c(1:4)){\n",
    "\tatomnc=nc_open(paste(atommergedir,'/',atommergefiles[i],sep=''))\n",
    "       \tcount=length(ncvar_get(atomnc,'time'))\n",
    "\tcampdata=NULL\n",
    "\tfor(var in atomvar){\n",
    "\t\tif(i==1&var=='UCATS-H2O/H2O_UWV'){ # no UCATS H2O on ATom-1\n",
    "\t\t\tcampdata=cbind(campdata,rep(NA,count))\n",
    "\t\t} else {\n",
    "\t\t\tcampdata=cbind(campdata,ncvar_get(atomnc,var))\n",
    "\t\t}\n",
    "\t}\n",
    "\tcampdata=cbind(campdata,rep(i,count)) # A.no\n",
    "       \tnc_close(atomnc)\n",
    "\tatommerge=rbind(atommerge,campdata)\n",
    "}\n",
    "atommerge=data.frame(atommerge,stringsAsFactors=F)\n",
    "names(atommerge)=c(gsub('.*/','',atomvar),'A.no')\n",
    "atommerge$YYYYMMDD=atommerge$Flight_Date\n",
    "atomdt=as.POSIXlt(ISOdatetime(2016,1,1,0,0,0,tz='UTC')+atommerge$time,tz='UTC')\n",
    "atommerge$Year=atomdt$year+1900\n",
    "atommerge$Month=as.POSIXlt(atomdt)$mon+1\n",
    "atommerge$Day=as.POSIXlt(atomdt)$mday\n",
    "atommerge$Hour=as.POSIXlt(atomdt)$hour\n",
    "atommerge$Min=as.POSIXlt(atomdt)$min\n",
    "atommerge$Sec=as.POSIXlt(atomdt)$sec\n",
    "atommerge$Sec=floor(atommerge$Sec/10)*10 # 'time' in new files is UTC_Mean but time in ObsPack is UTC_Start"
   ]
  },
  {
   "cell_type": "code",
   "execution_count": 13,
   "id": "a93cb356-524a-47ae-9ae4-20eeef7506e1",
   "metadata": {},
   "outputs": [],
   "source": [
    "# add strat flag\n",
    "atommerge$strat=rep(0,nrow(atommerge)) # 0 means trop\n",
    "h2oref=atommerge$H2O_DLH; h2oref[is.na(h2oref)]=atommerge$H2O_UWV[is.na(h2oref)]\n",
    "atommerge$h2oref=h2oref # for output\n",
    "h2oref[is.na(h2oref)]=0 # if H2O missing treat as if potentially strat\n",
    "n2oref=atommerge$N2O_QCLS; n2oref[is.na(n2oref)]=atommerge$N2O_PECD[is.na(n2oref)]; n2oref[is.na(n2oref)]=atommerge$N2O_UCATS[is.na(n2oref)]\n",
    "n2oref=n2oref-(approx(glbn2o$year+0.5,glbn2o$n2o,atommerge$Year+atomdt$yday/365)$y-glbn2o$n2o[glbn2o$year==2009])\n",
    "atommerge$n2oref=n2oref # for outptut\n",
    "n2oref[is.na(n2oref)]=400 # if N2O missing do not use for filter\n",
    "o3ref=atommerge$O3_CL; o3ref[is.na(o3ref)]=atommerge$O3_UCATS[is.na(o3ref)]\n",
    "atommerge$o3ref=o3ref\n",
    "o3ref[is.na(o3ref)]=0 # if O3 missing do not use for filter\n",
    "atommerge$strat[h2oref<stratcoh2o&(o3ref>stratcoo3|n2oref<stratcon2o|(o3ref==0&n2oref==400))]=1 \n",
    "# if either o3 or n2o criteria are met, or if both are missing, consider strat\n",
    "atommerge$strat[h2oref==0&o3ref==0&n2oref==400&atommerge$G_ALT<8000]=0 # if all 3 missing assume < 8 km is trop"
   ]
  },
  {
   "cell_type": "code",
   "execution_count": 14,
   "id": "34d28376-b5ae-4964-a98c-e88f1ea78f69",
   "metadata": {},
   "outputs": [],
   "source": [
    "# select column and save\n",
    "colsel=c('Year','Month','Day','Hour','Min','Sec','A.no','RF','prof.no','G_LAT','G_LONG','G_ALT','P','POT','CO2_NOAA','CO2_QCLS','CO2_AO2','CO2.X',\n",
    "         'CH4_NOAA','CH4_QCLS','CH4_UCATS','CH4_PECD','SF6_PECD','SF6_UCATS','strat','h2oref','n2oref','o3ref')\n",
    "atommerge=atommerge[,is.element(colnames(atommerge),colsel)]\n",
    "atommerge=atommerge[,match(colsel,names(atommerge))] # reorder\n",
    "names(atommerge)=c('year','mon','day','hour','min','sec','camp','flt','prof','lat','lon','alt','pressure','theta','co2','co2qcls','co2ao2','co2x',\n",
    "                   'ch4noaa','ch4qcls','ch4ucats','ch4panther','sf6panther','sf6ucats','strat','h2oref','n2oref','o3ref') # 'co2' = CO2_NOAA\n",
    "save('atommerge',file='ATom_10s.RData')"
   ]
  },
  {
   "cell_type": "markdown",
   "id": "ed2ac100-23a8-4d57-bec1-a919513a7c7f",
   "metadata": {},
   "source": [
    "# Filter airborne 10-sec data"
   ]
  },
  {
   "cell_type": "code",
   "execution_count": 15,
   "id": "4aab5450-3b86-45a4-ab0b-984e92aa7714",
   "metadata": {},
   "outputs": [],
   "source": [
    "# read in NOAA in situ record from SPO\n",
    "sponc=nc_open(paste(project_tmpdir_obs,'/obspack_co2_1_GLOBALVIEWplus_v6.0_2020-09-11/data/nc/co2_spo_surface-insitu_1_allvalid.nc',sep=''))\n",
    "spoco2=data.frame(cbind(ncvar_get(sponc,'time_decimal'),t(ncvar_get(sponc,'time_components')),ncvar_get(sponc,'value')*1E6)) ; colnames(spoco2)=c('date','year','mon','day','hour','min','sec','co2')\n",
    "qcflag=ncvar_get(sponc,'qcflag'); spoco2$co2[substr(qcflag,1,1)!='.']=NA; spoco2$co2[substr(qcflag,2,2)!='.']=NA\n",
    "spodt=ISOdatetime(spoco2$year,spoco2$mon,spoco2$day,spoco2$hour,spoco2$min,spoco2$sec,tz='UTC')"
   ]
  },
  {
   "cell_type": "markdown",
   "id": "993d660f-bb84-4eb9-806e-f63c66633c6e",
   "metadata": {},
   "source": [
    "# HIPPO"
   ]
  },
  {
   "cell_type": "code",
   "execution_count": 16,
   "id": "d065bb9d-23ec-40ae-8d01-0977092edae4",
   "metadata": {},
   "outputs": [
    {
     "name": "stdout",
     "output_type": "stream",
     "text": [
      "[1] \"Filtered 2453 of 156551 HIPPO obs (1.6%)\"\n"
     ]
    }
   ],
   "source": [
    "# filter\n",
    "ints=read.table(paste(project_tmpdir_obs,'/hippo_xsect_filt_datetime.txt',sep=''),header=T) \n",
    "startdt=ISOdatetime(ints$startyear,ints$startmon,ints$startday,ints$starthour,ints$startmin,ints$startsec,tz='UTC')\n",
    "stopdt=ISOdatetime(ints$stopyear,ints$stopmon,ints$stopday,ints$stophour,ints$stopmin,ints$stopsec,tz='UTC')\n",
    "blfilt=rep(T,nrow(hippomerge))\n",
    "for(i in c(1:nrow(ints))){\n",
    "\tblfilt[difftime(hippodt,startdt[i])>=0&difftime(hippodt,stopdt[i])<=0]=F\n",
    "}\n",
    "hippodt=hippodt[blfilt]\n",
    "hippomerge=hippomerge[blfilt,]\n",
    "print(paste('Filtered ',sum(!blfilt),' of ',length(blfilt),' HIPPO obs (',round(sum(!blfilt)/length(blfilt)*100,1),'%)',sep=''))"
   ]
  },
  {
   "cell_type": "code",
   "execution_count": 17,
   "id": "0bcb7a66-7a0e-4035-84c6-8d844fa74eb4",
   "metadata": {},
   "outputs": [],
   "source": [
    "# calculate differences\n",
    "hippomerge$co2mspo=round(hippomerge$co2-approx(as.POSIXct(spodt),spoco2$co2,as.POSIXct(hippodt))$y,3) ## co2 = 'CO2.X'\n",
    "hippomerge$co2mqcls=round(hippomerge$co2-hippomerge$co2qcls,3)\n",
    "hippomerge$co2moms=round(hippomerge$co2-hippomerge$co2oms,3)\n",
    "hippomerge$co2mao2=round(hippomerge$co2-hippomerge$co2ao2,3)\n",
    "hippomerge$ch4mucats=round(hippomerge$ch4qcls-hippomerge$ch4ucats,3)\n",
    "hippomerge$ch4mpanther=round(hippomerge$ch4qcls-hippomerge$ch4panther,3)"
   ]
  },
  {
   "cell_type": "code",
   "execution_count": 18,
   "id": "2c73cc19-8f53-442c-babe-068ccbd62f77",
   "metadata": {
    "tags": []
   },
   "outputs": [
    {
     "name": "stdout",
     "output_type": "stream",
     "text": [
      "       year         mon         day        hour         min         sec \n",
      "     154098      154098      154098      154098      154098      154098 \n",
      "       camp         flt        prof         lat         lon         alt \n",
      "     154098      154098      154098      154098      154098      154098 \n",
      "   pressure       theta         co2     co2qcls      co2oms      co2ao2 \n",
      "     153643      153642      128532       99731      111351      123678 \n",
      "    ch4qcls    ch4ucats  ch4panther  sf6panther    sf6ucats      sf6pfp \n",
      "     109569        5054        4367       10500       12982        1337 \n",
      "      strat      h2oref      n2oref       o3ref     co2mspo    co2mqcls \n",
      "     154098      149942      111218      150933      128532       97975 \n",
      "    co2moms     co2mao2   ch4mucats ch4mpanther \n",
      "      99249      103284        3696        3275 \n"
     ]
    }
   ],
   "source": [
    "# write out\n",
    "write(names(hippomerge),'../data/aircraft-obs/HIPPO_SO_mSPO.txt',ncol=ncol(hippomerge))\n",
    "write(t(hippomerge),'../data/aircraft-obs/HIPPO_SO_mSPO.txt',ncol=ncol(hippomerge),append=T)\n",
    "\n",
    "print(apply(!is.na(hippomerge),2,sum))"
   ]
  },
  {
   "cell_type": "markdown",
   "id": "5d5bdc0b-57ea-4f56-8642-af9e0e8f53f7",
   "metadata": {},
   "source": [
    "# ORCAS"
   ]
  },
  {
   "cell_type": "code",
   "execution_count": 19,
   "id": "247ba18b-7b9d-44cc-9467-fab6a08db896",
   "metadata": {},
   "outputs": [
    {
     "name": "stdout",
     "output_type": "stream",
     "text": [
      "[1] \"Filtered 1943 of 46646 ORCAS obs (4.2%)\"\n"
     ]
    }
   ],
   "source": [
    "# filter\n",
    "ints=read.table(paste(project_tmpdir_obs,'/orcas_xsect_filt_datetime.txt',sep=''),header=T)\n",
    "startdt=ISOdatetime(ints$startyear,ints$startmon,ints$startday,ints$starthour,ints$startmin,ints$startsec,tz='UTC')\n",
    "stopdt=ISOdatetime(ints$stopyear,ints$stopmon,ints$stopday,ints$stophour,ints$stopmin,ints$stopsec,tz='UTC')\n",
    "blfilt=rep(T,nrow(orcasmerge))\n",
    "for(i in c(1:nrow(ints))){\n",
    "    blfilt[difftime(orcasdt,startdt[i])>=0&difftime(orcasdt,stopdt[i])<=0]=F\n",
    "}\n",
    "orcasdt=orcasdt[blfilt]\n",
    "orcasmerge=orcasmerge[blfilt,]\n",
    "print(paste('Filtered ',sum(!blfilt),' of ',length(blfilt),' ORCAS obs (',round(sum(!blfilt)/length(blfilt)*100,1),'%)',sep=''))"
   ]
  },
  {
   "cell_type": "code",
   "execution_count": 20,
   "id": "b0cbb9e1-d711-41dd-bc17-91d0df075b02",
   "metadata": {},
   "outputs": [],
   "source": [
    "# calculate differences\n",
    "orcasmerge$co2mspo=round(orcasmerge$co2-approx(as.POSIXct(spodt),spoco2$co2,as.POSIXct(orcasdt))$y,2) ## co2 = 'CO2.X'\n",
    "orcasmerge$co2mqcls=round(orcasmerge$co2-orcasmerge$co2qcls,3)\n",
    "orcasmerge$co2mnoaa=round(orcasmerge$co2-orcasmerge$co2noaa,3)\n",
    "orcasmerge$co2mao2=round(orcasmerge$co2-orcasmerge$co2ao2,3)\n",
    "orcasmerge$ch4mqcls=round(orcasmerge$ch4noaa-orcasmerge$ch4qcls,3)"
   ]
  },
  {
   "cell_type": "code",
   "execution_count": 21,
   "id": "4f11c625-eaa4-416c-a1b2-261d46f3fe22",
   "metadata": {},
   "outputs": [
    {
     "name": "stdout",
     "output_type": "stream",
     "text": [
      "    year      mon      day     hour      min      sec      flt     prof \n",
      "   44703    44703    44703    44703    44703    44703    44703    44703 \n",
      "     lat      lon      alt pressure    theta      co2  co2qcls  co2noaa \n",
      "   44703    44703    44703    44581    44580    38560    16277    34251 \n",
      "  co2ao2  ch4noaa  ch4qcls    strat   h2oref   n2oref  co2mspo co2mqcls \n",
      "   31753    34254    23452    44703    44440    22462    38560    15105 \n",
      "co2mnoaa  co2mao2 ch4mqcls \n",
      "   34251    29649    21267 \n"
     ]
    }
   ],
   "source": [
    "# write out\n",
    "write(names(orcasmerge),'../data/aircraft-obs/ORCAS_SO_mSPO.txt',ncol=ncol(orcasmerge))\n",
    "write(t(orcasmerge),'../data/aircraft-obs/ORCAS_SO_mSPO.txt',ncol=ncol(orcasmerge),append=T)\n",
    "\n",
    "print(apply(!is.na(orcasmerge),2,sum))"
   ]
  },
  {
   "cell_type": "markdown",
   "id": "1ca3d143-2a4c-43fe-9754-dc3e7ae79371",
   "metadata": {},
   "source": [
    "# ATom"
   ]
  },
  {
   "cell_type": "code",
   "execution_count": 22,
   "id": "edf3f1eb-bfb0-46ff-836d-1ce9d8b8add5",
   "metadata": {},
   "outputs": [
    {
     "name": "stdout",
     "output_type": "stream",
     "text": [
      "[1] \"Filtered 4196 of 149133 ATom obs (2.8%)\"\n"
     ]
    }
   ],
   "source": [
    "# filter\n",
    "ints=read.table(paste(project_tmpdir_obs,'/atom_xsect_filt_datetime.txt',sep=''),header=T)\n",
    "startdt=ISOdatetime(ints$startyear,ints$startmon,ints$startday,ints$starthour,ints$startmin,ints$startsec,tz='UTC')\n",
    "stopdt=ISOdatetime(ints$stopyear,ints$stopmon,ints$stopday,ints$stophour,ints$stopmin,ints$stopsec,tz='UTC')\n",
    "blfilt=rep(T,nrow(atommerge))\n",
    "for(i in c(1:nrow(ints))){\n",
    "    blfilt[difftime(atomdt,startdt[i])>=0&difftime(atomdt,stopdt[i])<=0]=F\n",
    "}\n",
    "atomdt=atomdt[blfilt]\n",
    "atommerge=atommerge[blfilt,]\n",
    "print(paste('Filtered ',sum(!blfilt),' of ',length(blfilt),' ATom obs (',round(sum(!blfilt)/length(blfilt)*100,1),'%)',sep=''))"
   ]
  },
  {
   "cell_type": "code",
   "execution_count": 23,
   "id": "37b61d03-ccb9-4737-aeb9-83d0066fa18b",
   "metadata": {},
   "outputs": [],
   "source": [
    "# calculate differences\n",
    "atommerge$co2mspo=round(atommerge$co2-approx(as.POSIXct(spodt),spoco2$co2,as.POSIXct(atomdt))$y,2) ## co2 = 'CO2_NOAA'\n",
    "atommerge$co2mqcls=round(atommerge$co2-atommerge$co2qcls,3)\n",
    "atommerge$co2mao2=round(atommerge$co2-atommerge$co2ao2,3)\n",
    "atommerge$co2mx=round(atommerge$co2-atommerge$co2x,3)\n",
    "atommerge$ch4mqcls=round(atommerge$ch4noaa-atommerge$ch4qcls,3)\n",
    "atommerge$ch4mucats=round(atommerge$ch4noaa-atommerge$ch4ucats,3)\n",
    "atommerge$ch4mpanther=round(atommerge$ch4noaa-atommerge$ch4panther,3)"
   ]
  },
  {
   "cell_type": "code",
   "execution_count": 24,
   "id": "27a2cdc1-0484-48a9-9e47-6eff93b93bb1",
   "metadata": {},
   "outputs": [
    {
     "name": "stdout",
     "output_type": "stream",
     "text": [
      "       year         mon         day        hour         min         sec \n",
      "     144937      144937      144937      144937      144937      144937 \n",
      "       camp         flt        prof         lat         lon         alt \n",
      "     144937      144937      144937      144937      144937      144937 \n",
      "   pressure       theta         co2     co2qcls      co2ao2        co2x \n",
      "     144875      144875      131671       97031      119798      136278 \n",
      "    ch4noaa     ch4qcls    ch4ucats  ch4panther  sf6panther    sf6ucats \n",
      "     136515       75930        6803        7077       15073       13951 \n",
      "      strat      h2oref      n2oref       o3ref     co2mspo    co2mqcls \n",
      "     144937      144792       88110      144803      131671       86898 \n",
      "    co2mao2       co2mx    ch4mqcls   ch4mucats ch4mpanther \n",
      "     108800      130562       71605        6408        6703 \n"
     ]
    }
   ],
   "source": [
    "# write out\n",
    "write(names(atommerge),'../data/aircraft-obs/ATOM_SO_mSPO.txt',ncol=ncol(atommerge))\n",
    "write(t(atommerge),'../data/aircraft-obs/ATOM_SO_mSPO.txt',ncol=ncol(atommerge),append=T)\n",
    "\n",
    "print(apply(!is.na(atommerge),2,sum))"
   ]
  },
  {
   "cell_type": "code",
   "execution_count": null,
   "id": "5ceb8a2a-69ca-49fc-9a02-7f97ea1b8bfd",
   "metadata": {},
   "outputs": [],
   "source": []
  }
 ],
 "metadata": {
  "kernelspec": {
   "display_name": "R [conda env:miniconda3-so-co2-R]",
   "language": "R",
   "name": "conda-env-miniconda3-so-co2-R-r"
  },
  "language_info": {
   "codemirror_mode": "r",
   "file_extension": ".r",
   "mimetype": "text/x-r-source",
   "name": "R",
   "pygments_lexer": "r",
   "version": "4.1.1"
  }
 },
 "nbformat": 4,
 "nbformat_minor": 5
}
