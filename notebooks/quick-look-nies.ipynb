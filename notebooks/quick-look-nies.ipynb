{
 "cells": [
  {
   "cell_type": "markdown",
   "id": "6999d40f-f53d-4c62-84f5-1fcc23774b7d",
   "metadata": {},
   "source": [
    "Start with autoreload magic; this reloads modules automatically before entering the execution of code and thus enabled development in modules like util.py"
   ]
  },
  {
   "cell_type": "code",
   "execution_count": 6,
   "id": "39a45a67-19d9-44b4-8d08-f77a5d87ae98",
   "metadata": {
    "tags": []
   },
   "outputs": [
    {
     "name": "stdout",
     "output_type": "stream",
     "text": [
      "The autoreload extension is already loaded. To reload it, use:\n",
      "  %reload_ext autoreload\n"
     ]
    }
   ],
   "source": [
    "%load_ext autoreload\n",
    "%autoreload 2"
   ]
  },
  {
   "cell_type": "code",
   "execution_count": 7,
   "id": "dced6200-63d1-4c6a-962b-e77a526ea73a",
   "metadata": {
    "tags": []
   },
   "outputs": [],
   "source": [
    "import os\n",
    "from glob import glob\n",
    "\n",
    "import numpy as np\n",
    "import xarray as xr\n",
    "import pandas as pd\n",
    "\n",
    "import matplotlib.pyplot as plt\n",
    "\n",
    "import config\n",
    "\n",
    "import util"
   ]
  },
  {
   "cell_type": "code",
   "execution_count": 8,
   "id": "af60cdc9-9046-4f9a-a92d-58729848c817",
   "metadata": {},
   "outputs": [],
   "source": [
    "obspack_dir = \"/glade/work/mclong/sno-analysis/obspack_co2_1_GLOBALVIEWplus_v7.0_2021-08-18/data/nc\"\n",
    "obspack_filenames = [ # now including aircraft\n",
    "    f\"{obspack_dir}/co2_alt_surface-flask_4_representative.nc\",\n",
    "    f\"{obspack_dir}/co2_brw_surface-flask_4_representative.nc\",\n",
    "    f\"{obspack_dir}/co2_cba_surface-flask_4_representative.nc\",\n",
    "    f\"{obspack_dir}/co2_cgo_surface-flask_4_representative.nc\",\n",
    "    f\"{obspack_dir}/co2_kum_surface-flask_4_representative.nc\",\n",
    "    f\"{obspack_dir}/co2_ljo_surface-flask_4_representative.nc\",\n",
    "    f\"{obspack_dir}/co2_mlo_surface-flask_4_representative.nc\",\n",
    "    f\"{obspack_dir}/co2_psa_surface-flask_4_representative.nc\",\n",
    "    f\"{obspack_dir}/co2_smo_surface-flask_4_representative.nc\",\n",
    "    f\"{obspack_dir}/co2_spo_surface-flask_4_representative.nc\",\n",
    "    f\"{obspack_dir}/co2_hip_aircraft-insitu_59_allvalid.nc\",\n",
    "    f\"{obspack_dir}/co2_orc_aircraft-insitu_3_allvalid-merge10.nc\",\n",
    "    f\"{obspack_dir}/co2_tom_aircraft-insitu_1_allvalid.nc\",\n",
    "    f\"{obspack_dir}/co2_gould_shipboard-insitu_1_allvalid.nc\",\n",
    "]\n",
    "\n",
    "obspack_files = {}\n",
    "for f in obspack_filenames:\n",
    "    stn = os.path.basename(f).split('_')[1]\n",
    "    obspack_files[stn] = os.path.basename(f)"
   ]
  },
  {
   "cell_type": "markdown",
   "id": "0fb80f6f-92c1-41f9-9866-2e0494d19384",
   "metadata": {},
   "source": [
    "### Contribution details\n",
    "- 18 Obspack netcdf files (e.g. mlo_surface-flask_4_representative.nc) each with all 10 tracers\n",
    "- including 3 ship files in ObsPack format\n",
    "- can only output 30,000 values, so:\n",
    "    - for HIPPO and ATom only every fifth 10-sec value exists\n",
    "    - for ORCAS, only every other 10-sec value exists\n",
    "    - for Gould, every fifth value exists\n",
    "        - sampling is 5 samples every 2.5 min, separated by 1 hr 45 min, so will mostly get 1 sample per 15-min ambient period\n",
    "- also provided a single text file of all data"
   ]
  },
  {
   "cell_type": "code",
   "execution_count": 9,
   "id": "afbff2f2-51e3-450a-a580-d39225b334ef",
   "metadata": {
    "tags": []
   },
   "outputs": [
    {
     "name": "stdout",
     "output_type": "stream",
     "text": [
      "/glade/p/eol/stephens/longcoll/apo-simulation-data/NIES/co2_orc_aircraft-insitu_3_allvalid-merge10.nc\n"
     ]
    }
   ],
   "source": [
    "droot = \"/glade/p/eol/stephens/longcoll/apo-simulation-data/NIES\"\n",
    "\n",
    "station_list = ['orc']\n",
    "\n",
    "station_records = {}\n",
    "for station in station_list:\n",
    "\n",
    "    path = f\"{droot}/{obspack_files[station]}\"\n",
    "    print(path)\n",
    "    ds = xr.open_dataset(path)\n",
    "    \n",
    "    # get time as coordinate\n",
    "    time = ds.time\n",
    "    time.name = 'obs'\n",
    "    ds['obs'] = time\n",
    "    ds = ds.drop('time').rename({'obs': 'time'})\n",
    "    \n",
    "    ds.to_netcdf(f\"inverse_model_obspack_files/NIES/{obspack_files[station]}\")\n",
    "    \n",
    "    station_records[station] = ds"
   ]
  },
  {
   "cell_type": "code",
   "execution_count": 11,
   "id": "3aa79f2c-3a0e-4180-a7d1-9c2851841349",
   "metadata": {},
   "outputs": [],
   "source": [
    "##### currently failing here - if more than one station in station_list then can't reference other than first"
   ]
  },
  {
   "cell_type": "code",
   "execution_count": 11,
   "id": "a937a739-b1c1-4710-ae17-9a4f59a9e830",
   "metadata": {},
   "outputs": [
    {
     "ename": "KeyError",
     "evalue": "'cba'",
     "output_type": "error",
     "traceback": [
      "\u001b[0;31m---------------------------------------------------------------------------\u001b[0m",
      "\u001b[0;31mKeyError\u001b[0m                                  Traceback (most recent call last)",
      "\u001b[0;32m/glade/scratch/stephens/ipykernel_60999/1097117993.py\u001b[0m in \u001b[0;36m<module>\u001b[0;34m\u001b[0m\n\u001b[1;32m      1\u001b[0m \u001b[0;31m##### currently failing here - if more than one station in station_list then can't reference other than first\u001b[0m\u001b[0;34m\u001b[0m\u001b[0;34m\u001b[0m\u001b[0;34m\u001b[0m\u001b[0m\n\u001b[0;32m----> 2\u001b[0;31m \u001b[0mstation_records\u001b[0m\u001b[0;34m[\u001b[0m\u001b[0;34m'cba'\u001b[0m\u001b[0;34m]\u001b[0m\u001b[0;34m\u001b[0m\u001b[0;34m\u001b[0m\u001b[0m\n\u001b[0m",
      "\u001b[0;31mKeyError\u001b[0m: 'cba'"
     ]
    }
   ],
   "source": [
    "station_records['cba']"
   ]
  },
  {
   "cell_type": "code",
   "execution_count": null,
   "id": "5b35580f-00db-4386-ac1b-2c71c611c38f",
   "metadata": {},
   "outputs": [],
   "source": []
  },
  {
   "cell_type": "code",
   "execution_count": null,
   "id": "6be74a31-bd77-45b4-b11e-ded9e5761b87",
   "metadata": {},
   "outputs": [],
   "source": [
    "# add derived APO variables\n",
    "\n",
    "ds['apo_cesm'] = util.compute_apo (\n",
    "    o2=ds['o2_cesm'],\n",
    "    co2=ds['co2_cesm'],\n",
    "    n2=ds['n2_cesm']\n",
    ")\n",
    "\n",
    "ds['apo_diss'] = util.compute_apo (\n",
    "    o2=ds['o2_gk01r16'],\n",
    "    co2=ds['co2_somffn'],\n",
    "    n2=ds['n2_era']\n",
    ")\n",
    "\n",
    "ds['apo_gridfed'] = util.compute_apo (\n",
    "    o2=ds['o2_gridfed'],\n",
    "    co2=ds['co2_gridfed'],\n",
    "    n2=0.0\n",
    ")\n",
    "\n",
    "ds['apo_oco2mip'] = util.compute_apo (\n",
    "    o2=ds['co2_oco2mip'] * -1.4,\n",
    "    co2=ds['co2_oco2mip'],\n",
    "    n2=0.0\n",
    ")\n",
    "\n",
    "# kluge - need to make station name dynamic and allow any number of stations\n",
    "ds2['apo_cesm'] = util.compute_apo (\n",
    "    o2=ds2['o2_cesm'],\n",
    "    co2=ds2['co2_cesm'],\n",
    "    n2=ds2['n2_cesm']\n",
    ")\n",
    "\n",
    "ds2['apo_diss'] = util.compute_apo (\n",
    "    o2=ds2['o2_gk01r16'],\n",
    "    co2=ds2['co2_somffn'],\n",
    "    n2=ds2['n2_era']\n",
    ")\n",
    "\n",
    "ds2['apo_gridfed'] = util.compute_apo (\n",
    "    o2=ds2['o2_gridfed'],\n",
    "    co2=ds2['co2_gridfed'],\n",
    "    n2=0.0\n",
    ")\n",
    "\n",
    "ds2['apo_oco2mip'] = util.compute_apo (\n",
    "    o2=ds2['co2_oco2mip'] * -1.4,\n",
    "    co2=ds2['co2_oco2mip'],\n",
    "    n2=0.0\n",
    ")"
   ]
  },
  {
   "cell_type": "code",
   "execution_count": null,
   "id": "5a505fc5-ec8e-4570-9da1-7bed2feb210c",
   "metadata": {},
   "outputs": [],
   "source": [
    "sno_vars = [\n",
    "    'apo_jena',\n",
    "    'apo_cesm',\n",
    "    'apo_diss',\n",
    "    'apo_gridfed',\n",
    "    'apo_oco2mip',\n",
    "    'o2_cesm', \n",
    "    'o2_gk01r16',  \n",
    "    'o2_gridfed',   \n",
    "    'co2_cesm', \n",
    "    'co2_somffn', \n",
    "    'co2_gridfed', \n",
    "    'co2_oco2mip', \n",
    "    'n2_cesm', \n",
    "    'n2_era', \n",
    "]\n",
    "\n",
    "n_plots = len(sno_vars)\n",
    "ncol = int(np.sqrt(n_plots))\n",
    "nrow = int(((n_plots / ncol) + n_plots % ncol))\n",
    "fig, axs = plt.subplots(nrow, ncol, figsize=(12, 12), squeeze=False)\n",
    "\n",
    "for n, v in enumerate(sno_vars):\n",
    "    ip, jp = np.unravel_index(n, axs.shape)\n",
    "    \n",
    "    ax = axs[ip, jp]\n",
    "    ds[v].plot(ax=ax)\n",
    "    ds2[v].plot(ax=ax)\n",
    "    ax.set_title(v)\n",
    "\n",
    "plt.tight_layout();    \n",
    "\n",
    "for n in range(n+1, nrow*ncol):\n",
    "    ip, jp = np.unravel_index(n, (nrow, ncol))\n",
    "    axs[ip, jp].remove()\n",
    "    "
   ]
  },
  {
   "cell_type": "code",
   "execution_count": null,
   "id": "b3e71832-3c60-417b-9db9-68fd8c3cda37",
   "metadata": {},
   "outputs": [],
   "source": [
    "# seasonal climatology\n",
    "ds_seas=ds.groupby('time.month').mean('time')\n",
    "ds_seas['apo_cesm']\n",
    "\n",
    "# kluge - need to make station name dynamic and allow any number of stations\n",
    "ds2_seas=ds2.groupby('time.month').mean('time')\n",
    "ds2_seas['apo_cesm']\n",
    "\n",
    "fig, axs = plt.subplots(nrow, ncol, figsize=(12, 12), squeeze=False)\n",
    "\n",
    "for n, v in enumerate(sno_vars):\n",
    "    ip, jp = np.unravel_index(n, axs.shape)\n",
    "    \n",
    "    ax = axs[ip, jp]\n",
    "    ds_seas[v].plot(ax=ax)\n",
    "    ds2_seas[v].plot(ax=ax)\n",
    "    ax.set_title(v)\n",
    "\n",
    "plt.tight_layout();    \n",
    "\n",
    "for n in range(n+1, nrow*ncol):\n",
    "    ip, jp = np.unravel_index(n, (nrow, ncol))\n",
    "    axs[ip, jp].remove()\n",
    "    "
   ]
  },
  {
   "cell_type": "code",
   "execution_count": null,
   "id": "dffb999e-79ab-447b-ab8a-7df556f04122",
   "metadata": {},
   "outputs": [],
   "source": []
  }
 ],
 "metadata": {
  "kernelspec": {
   "display_name": "Python [conda env:miniconda3-sno]",
   "language": "python",
   "name": "conda-env-miniconda3-sno-py"
  },
  "language_info": {
   "codemirror_mode": {
    "name": "ipython",
    "version": 3
   },
   "file_extension": ".py",
   "mimetype": "text/x-python",
   "name": "python",
   "nbconvert_exporter": "python",
   "pygments_lexer": "ipython3",
   "version": "3.7.10"
  }
 },
 "nbformat": 4,
 "nbformat_minor": 5
}
