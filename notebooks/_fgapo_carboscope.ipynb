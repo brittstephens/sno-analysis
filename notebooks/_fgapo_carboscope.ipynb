{
 "cells": [
  {
   "cell_type": "markdown",
   "id": "28596d8e-d68c-4040-9929-48a5a1d8c4e2",
   "metadata": {},
   "source": [
    "# Preprocess APO fluxes from CarboScope inversion"
   ]
  },
  {
   "cell_type": "code",
   "execution_count": 1,
   "id": "9adfa66c-c2e8-4628-b7f4-7dcb84e5dd63",
   "metadata": {},
   "outputs": [],
   "source": [
    "%load_ext autoreload\n",
    "%autoreload 2"
   ]
  },
  {
   "cell_type": "code",
   "execution_count": 2,
   "id": "26825794-fd33-479d-a130-4f6e3ff3cdcb",
   "metadata": {},
   "outputs": [],
   "source": [
    "import numpy as np\n",
    "\n",
    "import cftime\n",
    "\n",
    "import pandas as pd\n",
    "import xarray as xr\n",
    "import intake\n",
    "\n",
    "import config\n",
    "import regrid_tools\n",
    "import util"
   ]
  },
  {
   "cell_type": "markdown",
   "id": "26ce7785-948b-4f81-9630-92ff6af2c8fe",
   "metadata": {},
   "source": [
    "## Read APO flux data"
   ]
  },
  {
   "cell_type": "code",
   "execution_count": 3,
   "id": "74763a85-d56e-4170-a6e7-6b157741f1d4",
   "metadata": {},
   "outputs": [
    {
     "data": {
      "application/yaml": "fluxes-catalog-web:\n  args:\n    path: catalogs/fluxes-catalog-web.yml\n  description: Flux datasets\n  driver: intake.catalog.local.YAMLFileCatalog\n  metadata: {}\n",
      "text/plain": [
       "fluxes-catalog-web:\n",
       "  args:\n",
       "    path: catalogs/fluxes-catalog-web.yml\n",
       "  description: Flux datasets\n",
       "  driver: intake.catalog.local.YAMLFileCatalog\n",
       "  metadata: {}\n"
      ]
     },
     "metadata": {
      "application/json": {
       "root": "fluxes-catalog-web"
      }
     },
     "output_type": "display_data"
    }
   ],
   "source": [
    "cat = intake.open_catalog(\"catalogs/fluxes-catalog-web.yml\")\n",
    "cat"
   ]
  },
  {
   "cell_type": "code",
   "execution_count": 4,
   "id": "23016a0f-fa81-4202-a549-5d907783c5a1",
   "metadata": {},
   "outputs": [],
   "source": [
    "version = \"apo99_v2020\""
   ]
  },
  {
   "cell_type": "markdown",
   "id": "8e1d786a-fa5f-455b-8dcb-764d26ecd29b",
   "metadata": {},
   "source": [
    "### Fix `storage_options` to increase `timeout` "
   ]
  },
  {
   "cell_type": "code",
   "execution_count": 5,
   "id": "676097d0-0243-4296-a6ce-134d3f5c6821",
   "metadata": {},
   "outputs": [
    {
     "data": {
      "text/plain": [
       "{'simplecache': {'same_names': True,\n",
       "  'cache_storage': '/glade/work/mclong/sno-analysis/intake-cache/test'},\n",
       " 'http': {'client_kwargs': {'timeout': ClientTimeout(total=86400, connect=None, sock_read=None, sock_connect=None)}}}"
      ]
     },
     "execution_count": 5,
     "metadata": {},
     "output_type": "execute_result"
    }
   ],
   "source": [
    "import aiohttp\n",
    "timeout = aiohttp.ClientTimeout(total=86400)\n",
    "storage_options=dict(**cat[f\"fgapo_CarbonScope_{version}\"].storage_options)\n",
    "storage_options.update(\n",
    "    dict(\n",
    "        http=dict(client_kwargs={'timeout': timeout}),\n",
    "    )\n",
    ")\n",
    "storage_options"
   ]
  },
  {
   "cell_type": "code",
   "execution_count": null,
   "id": "b5bbda1b-c2cc-4477-aec7-da7e477a45b4",
   "metadata": {},
   "outputs": [],
   "source": [
    "ds = cat[f\"fgapo_CarbonScope_{version}\"](storage_options=storage_options).to_dask().compute()            \n",
    "ds"
   ]
  },
  {
   "cell_type": "code",
   "execution_count": null,
   "id": "6aa5996f-5e72-4735-9b99-75555d66a11f",
   "metadata": {},
   "outputs": [],
   "source": [
    "ds.apoflux_ocean.attrs"
   ]
  },
  {
   "cell_type": "code",
   "execution_count": null,
   "id": "ca79d4ad-0b25-4fd6-b76c-b485beaee346",
   "metadata": {},
   "outputs": [],
   "source": [
    "ds.apoflux_ocean.isel(mtime=0).plot()"
   ]
  },
  {
   "cell_type": "code",
   "execution_count": null,
   "id": "1812d505-3a08-459e-93fb-98751f710f28",
   "metadata": {},
   "outputs": [],
   "source": [
    "grid = util.generate_latlon_grid(nx=ds.lon.size, ny=ds.lat.size, lon0=-180.)\n",
    "np.testing.assert_array_almost_equal(grid.lon.values, ds.lon.values)\n",
    "np.testing.assert_array_almost_equal(grid.lat.values, ds.lat.values)\n",
    "\n",
    "src_grid = regrid_tools.grid(\"latlon\", nx=ds.lon.size, ny=ds.lat.size, lon0=-180.)\n",
    "src_grid"
   ]
  },
  {
   "cell_type": "code",
   "execution_count": null,
   "id": "05196093-eb50-49a8-991e-4c9859290896",
   "metadata": {},
   "outputs": [],
   "source": [
    "dt = ds.dt.values[0]\n",
    "np.testing.assert_equal(ds.dt.values, dt)"
   ]
  },
  {
   "cell_type": "code",
   "execution_count": null,
   "id": "7c97902c-a399-47cc-ae63-5d4878037c54",
   "metadata": {},
   "outputs": [],
   "source": [
    "Tmolyr_to_mols = 1e12 / 365. / 86400.\n",
    "flux_variables = dict(\n",
    "    fgapo_ocn=\"apoflux_ocean\",\n",
    "    fgapo_lnd=\"apoflux_land\",\n",
    "    fgapo_fff=\"apoflux_subt\",\n",
    "    fgapo_exc=\"apoflux_excl\",\n",
    ")\n",
    "dso_src = ds[[\"mtime\", \"lat\", \"lon\"]]\n",
    "for var_out, var_in in flux_variables.items():    \n",
    "    dso_src[var_out] = ds[var_in] / ds.dxyp * Tmolyr_to_mols\n",
    "    dso_src[var_out].attrs = ds[var_in].attrs\n",
    "    dso_src[var_out].attrs[\"units\"] = \"mol/m^2/s\"\n",
    "    del dso_src[var_out].attrs[\"cell_measures\"]\n",
    "    dso_src[var_out].encoding = ds[var_in].encoding\n",
    "    \n",
    "dso_src = dso_src.rename({\"mtime\": \"time\"})\n",
    "dso_src.time.attrs = ds.mtime.attrs\n",
    "dso_src.time.encoding[\"_FillValue\"] = None\n",
    "dso_src"
   ]
  },
  {
   "cell_type": "code",
   "execution_count": null,
   "id": "ce81264b-49e6-45dc-8b69-e7829c378b87",
   "metadata": {},
   "outputs": [],
   "source": [
    "dst_grid = regrid_tools.grid(\"latlon\", **config.config_dict[\"flux-dst-grid-kwargs\"])\n",
    "dst_grid"
   ]
  },
  {
   "cell_type": "code",
   "execution_count": null,
   "id": "bb5e5bba-55ff-44bf-925d-910b3dbba9ff",
   "metadata": {},
   "outputs": [],
   "source": [
    "regrid_obj = regrid_tools.regridder(src_grid, dst_grid, method=\"conserve\", clobber=True)\n",
    "regrid_obj"
   ]
  },
  {
   "cell_type": "code",
   "execution_count": null,
   "id": "eff404bd-1849-4848-8f4f-3e4a0fb42300",
   "metadata": {},
   "outputs": [],
   "source": [
    "dso = util.generate_latlon_grid(**config.config_dict[\"flux-dst-grid-kwargs\"])[[\"area\"]]\n",
    "\n",
    "dso_dst_data = regrid_obj(dso_src)\n",
    "dso[\"time\"] = dso_src.time\n",
    "\n",
    "for v in dso_dst_data.data_vars:\n",
    "    dso[v] = dso_dst_data[v]\n",
    "    dso[v].encoding = dso_src[v].encoding\n",
    "    \n",
    "time = cftime.num2date(dso.time, units=dso.time.attrs[\"units\"])    \n",
    "dso[\"date\"] = xr.DataArray(\n",
    "    [util.yyyymmdd(d.year, d.month, d.day) for d in time],\n",
    "    dims=(\"time\"),\n",
    "    attrs={\"long_name\": \"date\", \"units\": \"YYYYMMDD\"},\n",
    "    coords={\"time\": dso.time},\n",
    ")\n",
    "dso"
   ]
  },
  {
   "cell_type": "code",
   "execution_count": null,
   "id": "6ee2bec3-5645-4eda-8c96-8b5882596567",
   "metadata": {},
   "outputs": [],
   "source": [
    "file_out = f\"{config.flux_product_dir}/CarboScope.{version}.fgapo.nc\"\n",
    "dso.to_netcdf(file_out)"
   ]
  },
  {
   "cell_type": "code",
   "execution_count": null,
   "id": "c304a3dc-0d5b-4876-be70-61c66ee30518",
   "metadata": {},
   "outputs": [],
   "source": [
    "dso.info()"
   ]
  },
  {
   "cell_type": "code",
   "execution_count": null,
   "id": "0db7ea98-3675-4f40-aa74-d896c4a752f9",
   "metadata": {},
   "outputs": [],
   "source": []
  }
 ],
 "metadata": {
  "kernelspec": {
   "display_name": "Python [conda env:miniconda3-sno]",
   "language": "python",
   "name": "conda-env-miniconda3-sno-py"
  },
  "language_info": {
   "codemirror_mode": {
    "name": "ipython",
    "version": 3
   },
   "file_extension": ".py",
   "mimetype": "text/x-python",
   "name": "python",
   "nbconvert_exporter": "python",
   "pygments_lexer": "ipython3",
   "version": "3.7.11"
  }
 },
 "nbformat": 4,
 "nbformat_minor": 5
}
