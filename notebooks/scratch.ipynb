{
 "cells": [
  {
   "cell_type": "code",
   "execution_count": 106,
   "id": "western-mechanics",
   "metadata": {},
   "outputs": [
    {
     "data": {
      "text/plain": [
       "array(['r1i1p1f1', 'r2i1p1f1', 'r3i1p1f1', 'r4i1p1f1', 'r5i1p1f1',\n",
       "       'r6i1p1f1', 'r7i1p1f1', 'r8i1p1f1', 'r9i1p1f1', 'r10i1p1f1',\n",
       "       'r11i1p1f1', 'r12i1p1f1', 'r13i1p1f1', 'r14i1p1f1', 'r15i1p1f1',\n",
       "       'r16i1p1f1', 'r17i1p1f1', 'r18i1p1f1', 'r19i1p1f1', 'r20i1p1f1',\n",
       "       'r21i1p1f1', 'r22i1p1f1', 'r23i1p1f1', 'r24i1p1f1', 'r25i1p1f1',\n",
       "       'r1i1p2f1', 'r2i1p2f1', 'r3i1p2f1', 'r4i1p2f1', 'r5i1p2f1',\n",
       "       'r6i1p2f1', 'r7i1p2f1', 'r8i1p2f1', 'r9i1p2f1', 'r10i1p2f1',\n",
       "       'r11i1p2f1', 'r12i1p2f1', 'r13i1p2f1', 'r14i1p2f1', 'r15i1p2f1',\n",
       "       'r16i1p2f1', 'r17i1p2f1', 'r18i1p2f1', 'r19i1p2f1', 'r20i1p2f1',\n",
       "       'r21i1p2f1', 'r22i1p2f1', 'r23i1p2f1', 'r24i1p2f1', 'r25i1p2f1'],\n",
       "      dtype='<U9')"
      ]
     },
     "execution_count": 106,
     "metadata": {},
     "output_type": "execute_result"
    }
   ],
   "source": [
    "### this works, just need to merge in\n",
    "\n",
    "import numpy as np\n",
    "\n",
    "temp = np.array(['r10i1p1f1', 'r10i1p2f1', 'r11i1p1f1', 'r11i1p2f1', 'r12i1p1f1', 'r12i1p2f1', 'r13i1p1f1', 'r13i1p2f1', 'r14i1p1f1', 'r14i1p2f1', 'r15i1p1f1', 'r15i1p2f1', 'r16i1p1f1', 'r16i1p2f1', 'r17i1p1f1', 'r17i1p2f1', 'r18i1p1f1', 'r18i1p2f1', 'r19i1p1f1', 'r19i1p2f1', 'r1i1p1f1', 'r1i1p2f1', 'r20i1p1f1', 'r20i1p2f1', 'r21i1p1f1', 'r21i1p2f1', 'r22i1p1f1', 'r22i1p2f1', 'r23i1p1f1', 'r23i1p2f1', 'r24i1p1f1', 'r24i1p2f1', 'r25i1p1f1', 'r25i1p2f1', 'r2i1p1f1', 'r2i1p2f1', 'r3i1p1f1', 'r3i1p2f1', 'r4i1p1f1', 'r4i1p2f1', 'r5i1p1f1', 'r5i1p2f1', 'r6i1p1f1', 'r6i1p2f1', 'r7i1p1f1', 'r7i1p2f1', 'r8i1p1f1', 'r8i1p2f1', 'r9i1p1f1', 'r9i1p2f1' ])\n",
    "real = np.array(temp)\n",
    "init = np.array(temp)\n",
    "phys = np.array(temp)\n",
    "forc = np.array(temp)\n",
    "\n",
    "#length=len(temp)\n",
    "\n",
    "for i in range(len(temp)):\n",
    "    real[i]=temp[i].split('r')[1].split('i')[0]\n",
    "    init[i]=temp[i].split('i')[1].split('p')[0]\n",
    "    phys[i]=temp[i].split('p')[1].split('f')[0]\n",
    "    forc[i]=temp[i].split('f')[1]\n",
    "\n",
    "real=real.astype(int)\n",
    "init=init.astype(int)\n",
    "phys=phys.astype(int)\n",
    "forc=forc.astype(int)\n",
    "\n",
    "#print(temp)\n",
    "#print(real)\n",
    "#print(init)\n",
    "#print(phys)\n",
    "#print(forc)\n",
    "\n",
    "#ind = np.lexsort((real,init,phys,forc))\n",
    "#ind\n",
    "#temp[ind]\n",
    "\n",
    "temp[ np.lexsort((real,init,phys,forc))]\n",
    "\n",
    "\n",
    "\n",
    "            # sort ensemble members to prioritize physics and forcing 1, and to sort realizations numerically \n",
    "            real = np.array(member_ids)\n",
    "            init = np.array(member_ids)\n",
    "            phys = np.array(member_ids)\n",
    "            forc = np.array(member_ids)\n",
    "            for i in range(len(member_ids)):\n",
    "                real[i]=member_ids[i].split('r')[1].split('i')[0]\n",
    "                init[i]=member_ids[i].split('i')[1].split('p')[0]\n",
    "                phys[i]=member_ids[i].split('p')[1].split('f')[0]\n",
    "                forc[i]=member_ids[i].split('f')[1]\n",
    "            real=real.astype(int)\n",
    "            init=init.astype(int)\n",
    "            phys=phys.astype(int)\n",
    "            forc=forc.astype(int)      \n",
    "            member_ids_sorted=np.array(member_ids)[ np.lexsort((real,init,phys,forc))]\n"
   ]
  }
 ],
 "metadata": {
  "kernelspec": {
   "display_name": "Python [conda env:.conda-sno]",
   "language": "python",
   "name": "conda-env-.conda-sno-py"
  },
  "language_info": {
   "codemirror_mode": {
    "name": "ipython",
    "version": 3
   },
   "file_extension": ".py",
   "mimetype": "text/x-python",
   "name": "python",
   "nbconvert_exporter": "python",
   "pygments_lexer": "ipython3",
   "version": "3.7.10"
  }
 },
 "nbformat": 4,
 "nbformat_minor": 5
}
