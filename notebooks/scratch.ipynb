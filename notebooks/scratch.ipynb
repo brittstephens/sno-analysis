{
 "cells": [
  {
   "cell_type": "code",
   "execution_count": 79,
   "id": "positive-sherman",
   "metadata": {},
   "outputs": [
    {
     "name": "stdout",
     "output_type": "stream",
     "text": [
      "['10' '10' '11' '11' '12' '12' '13' '13' '14' '14' '15' '15' '16' '16'\n",
      " '17' '17' '18' '18' '19' '19' '1' '1' '20' '20' '21' '21' '22' '22' '23'\n",
      " '23' '24' '24' '25' '25' '2' '2' '3' '3' '4' '4' '5' '5' '6' '6' '7' '7'\n",
      " '8' '8' '9' '9']\n",
      "['1p1f1' '1p2f1' '1p1f1' '1p2f1' '1p1f1' '1p2f1' '1p1f1' '1p2f1' '1p1f1'\n",
      " '1p2f1' '1p1f1' '1p2f1' '1p1f1' '1p2f1' '1p1f1' '1p2f1' '1p1f1' '1p2f1'\n",
      " '1p1f1' '1p2f1' '1p1f1' '1p2f1' '1p1f1' '1p2f1' '1p1f1' '1p2f1' '1p1f1'\n",
      " '1p2f1' '1p1f1' '1p2f1' '1p1f1' '1p2f1' '1p1f1' '1p2f1' '1p1f1' '1p2f1'\n",
      " '1p1f1' '1p2f1' '1p1f1' '1p2f1' '1p1f1' '1p2f1' '1p1f1' '1p2f1' '1p1f1'\n",
      " '1p2f1' '1p1f1' '1p2f1' '1p1f1' '1p2f1']\n"
     ]
    },
    {
     "data": {
      "text/plain": [
       "25"
      ]
     },
     "execution_count": 79,
     "metadata": {},
     "output_type": "execute_result"
    }
   ],
   "source": [
    "import numpy as np\n",
    "\n",
    "realization = np.array(['r10i1p1f1', 'r10i1p2f1', 'r11i1p1f1', 'r11i1p2f1', 'r12i1p1f1', 'r12i1p2f1', 'r13i1p1f1', 'r13i1p2f1', 'r14i1p1f1', 'r14i1p2f1', 'r15i1p1f1', 'r15i1p2f1', 'r16i1p1f1', 'r16i1p2f1', 'r17i1p1f1', 'r17i1p2f1', 'r18i1p1f1', 'r18i1p2f1', 'r19i1p1f1', 'r19i1p2f1', 'r1i1p1f1', 'r1i1p2f1', 'r20i1p1f1', 'r20i1p2f1', 'r21i1p1f1', 'r21i1p2f1', 'r22i1p1f1', 'r22i1p2f1', 'r23i1p1f1', 'r23i1p2f1', 'r24i1p1f1', 'r24i1p2f1', 'r25i1p1f1', 'r25i1p2f1', 'r2i1p1f1', 'r2i1p2f1', 'r3i1p1f1', 'r3i1p2f1', 'r4i1p1f1', 'r4i1p2f1', 'r5i1p1f1', 'r5i1p2f1', 'r6i1p1f1', 'r6i1p2f1', 'r7i1p1f1', 'r7i1p2f1', 'r8i1p1f1', 'r8i1p2f1', 'r9i1p1f1', 'r9i1p2f1' ])\n",
    "initphysforce = np.array(['r10i1p1f1', 'r10i1p2f1', 'r11i1p1f1', 'r11i1p2f1', 'r12i1p1f1', 'r12i1p2f1', 'r13i1p1f1', 'r13i1p2f1', 'r14i1p1f1', 'r14i1p2f1', 'r15i1p1f1', 'r15i1p2f1', 'r16i1p1f1', 'r16i1p2f1', 'r17i1p1f1', 'r17i1p2f1', 'r18i1p1f1', 'r18i1p2f1', 'r19i1p1f1', 'r19i1p2f1', 'r1i1p1f1', 'r1i1p2f1', 'r20i1p1f1', 'r20i1p2f1', 'r21i1p1f1', 'r21i1p2f1', 'r22i1p1f1', 'r22i1p2f1', 'r23i1p1f1', 'r23i1p2f1', 'r24i1p1f1', 'r24i1p2f1', 'r25i1p1f1', 'r25i1p2f1', 'r2i1p1f1', 'r2i1p2f1', 'r3i1p1f1', 'r3i1p2f1', 'r4i1p1f1', 'r4i1p2f1', 'r5i1p1f1', 'r5i1p2f1', 'r6i1p1f1', 'r6i1p2f1', 'r7i1p1f1', 'r7i1p2f1', 'r8i1p1f1', 'r8i1p2f1', 'r9i1p1f1', 'r9i1p2f1' ])\n",
    "\n",
    "length=len(realization)\n",
    "\n",
    "for i in range(length):\n",
    "    realization[i]=realization[i].split('r')[1]\n",
    "    realization[i]=realization[i].split('i')[0]\n",
    "    initphysforce[i]=initphysforce[i].split('i')[1]\n",
    "\n",
    "print(realization)\n",
    "print(initphysforce)\n",
    "\n",
    "(initphysforce=='1p1f1').sum()\n",
    "\n",
    "# if > nmax_members then exclude all others\n",
    "# then sort by realization\n",
    "\n"
   ]
  },
  {
   "cell_type": "code",
   "execution_count": null,
   "id": "electric-pizza",
   "metadata": {},
   "outputs": [],
   "source": []
  }
 ],
 "metadata": {
  "kernelspec": {
   "display_name": "Python [conda env:.conda-sno]",
   "language": "python",
   "name": "conda-env-.conda-sno-py"
  },
  "language_info": {
   "codemirror_mode": {
    "name": "ipython",
    "version": 3
   },
   "file_extension": ".py",
   "mimetype": "text/x-python",
   "name": "python",
   "nbconvert_exporter": "python",
   "pygments_lexer": "ipython3",
   "version": "3.7.10"
  }
 },
 "nbformat": 4,
 "nbformat_minor": 5
}
