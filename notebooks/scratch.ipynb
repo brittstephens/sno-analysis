{
 "cells": [
  {
   "cell_type": "code",
   "execution_count": 60,
   "id": "usual-projector",
   "metadata": {},
   "outputs": [],
   "source": [
    "import numpy as np"
   ]
  },
  {
   "cell_type": "code",
   "execution_count": 61,
   "id": "committed-smile",
   "metadata": {},
   "outputs": [],
   "source": [
    "def N2solHamme(S,T):\n",
    "    \n",
    "    '''\n",
    "    # constants from Table 4 of Hamme and Emerson 2004\n",
    "    Coef. Ne (nmol/kg) N2 (umol/kg) Ar (umol/kg)\n",
    "    A0 2.18156 6.42931 2.79150\n",
    "    A1 1.29108 2.92704 3.17609\n",
    "    A2 2.12504 4.32531 4.13116\n",
    "    A3 0 4.69149 4.90379\n",
    "    B0 -5.94737E-3 -7.44129E-3 -6.96233E-3\n",
    "    B1 -5.13896E-3 -8.02566E-3 -7.66670E-3\n",
    "    B2 0 -1.46775E-2 -1.16888E-2\n",
    "    Check: 7.34121 500.885 13.4622\n",
    "    check values at temperature of 10 C and salinity of 35 (PSS)\n",
    "    '''\n",
    "    \n",
    "    rho_ref = 1.026 # g/cm3 (approx. at 15 C)\n",
    "\n",
    "    A0 = 6.42931\n",
    "    A1 = 2.92704\n",
    "    A2 = 4.32531\n",
    "    A3 = 4.69149\n",
    "    B0 = -7.44129E-3\n",
    "    B1 = -8.02566E-3\n",
    "    B2 = -1.46775E-2\n",
    "    \n",
    "    #ln C = A0 + A1*Ts + A2*Ts^2 + A3*Ts^3 + S (B0 + B1 * Ts + B2 * Ts^2)\n",
    "    #Ts = ln((298.15 - t)/(273.15 + t)\n",
    "    \n",
    "    T_scaled = np.log((298.15 - T) /(273.15 + T))\n",
    "    return np.exp(A0 + A1*T_scaled + A2*T_scaled**2. + A3*T_scaled**3. + \\\n",
    "                  S*(B0 + B1*T_scaled + B2*T_scaled**2.)) * rho_ref # convert to mmol/m^3/atm"
   ]
  },
  {
   "cell_type": "code",
   "execution_count": 62,
   "id": "greatest-playback",
   "metadata": {},
   "outputs": [
    {
     "data": {
      "text/plain": [
       "513.9082427053758"
      ]
     },
     "execution_count": 62,
     "metadata": {},
     "output_type": "execute_result"
    }
   ],
   "source": [
    "N2solHamme(35,10)"
   ]
  },
  {
   "cell_type": "code",
   "execution_count": 63,
   "id": "broke-czech",
   "metadata": {},
   "outputs": [],
   "source": [
    "def N2solWeiss(S,T):\n",
    "    '''\n",
    "    Solubility of N2 in sea water\n",
    "    INPUT:  \n",
    "    S = salinity    [PSS]\n",
    "    T = temperature [degree C]\n",
    "    \n",
    "    conc = solubility of N2 [mmol/m^3/atm]\n",
    "    \n",
    "    REFERENCE:\n",
    "    Weiss, 1970.\n",
    "    \"The solubility of nitrogen, oxygen and argon in water and seawater\"\n",
    "    Deep-sea Research, 17, pp. 721-735.\n",
    "    '''\n",
    "    \n",
    "    # T is absolute T\n",
    "    Tabs = 275.15 + T\n",
    "    \n",
    "    rho_ref = 1.026 # g/cm3 (approx. at 15 C)\n",
    "\n",
    "    \n",
    "    # these are coeffs or Bunsen solubility coeff:\n",
    "    #A1 = -59.6274\n",
    "    #A2 = 85.7661\n",
    "    #A3 = 24.3696\n",
    "    #B1 = -0.051580\n",
    "    #B2 = 0.026329\n",
    "    #B3 = -0.0037252\n",
    "\n",
    "    #N2_sol_an = np.log(A1 + A2*(100.0/T) + S*(B1 + B2*(T/100.0) + B3*((T/100.0)**2)))\n",
    "    #units_ml_kg__umol_kg = 1.0/0.022391\n",
    "    #N2_sol = N2_sol_an*units_ml_kg__umol_kg\n",
    "    #return _umolkg_to_mmolm3(N2_sol)\n",
    "\n",
    "    # this looks like the equation for Bunsen solubility coeff, but should be np.exp not np.log, also missing A3 term and unit conversion:\n",
    "    #return np.log(A1 + A2*(100.0/T) + S*(B1 + B2*(T/100.0) + B3*((T/100.0)**2)))\n",
    "    \n",
    "    # these are coeffs and equation for ml/kg\n",
    "    A1 = -177.0212\n",
    "    A2 = 254.6078\n",
    "    A3 = 146.3611 \n",
    "    A4 = -22.0933\n",
    "    B1 = -0.054052 \n",
    "    B2 = 0.027266\n",
    "    B3 = -0.0038430\n",
    "    \n",
    "    ml_per_kg_to_mmol_per_m3 = 1 / 22.4 * rho_ref * 1e3 \n",
    "\n",
    "    return np.exp(A1 + A2*(100.0/Tabs) + A3*np.log(Tabs/100) + A4*(Tabs/100) + S*(B1 + B2*(Tabs/100.0) + B3*(Tabs/100.0)**2)) * ml_per_kg_to_mmol_per_m3"
   ]
  },
  {
   "cell_type": "code",
   "execution_count": 64,
   "id": "stupid-generation",
   "metadata": {},
   "outputs": [
    {
     "data": {
      "text/plain": [
       "489.16153439690214"
      ]
     },
     "execution_count": 64,
     "metadata": {},
     "output_type": "execute_result"
    }
   ],
   "source": [
    "N2solWeiss(35,10)"
   ]
  }
 ],
 "metadata": {
  "kernelspec": {
   "display_name": "Python [conda env:.conda-sno]",
   "language": "python",
   "name": "conda-env-.conda-sno-py"
  },
  "language_info": {
   "codemirror_mode": {
    "name": "ipython",
    "version": 3
   },
   "file_extension": ".py",
   "mimetype": "text/x-python",
   "name": "python",
   "nbconvert_exporter": "python",
   "pygments_lexer": "ipython3",
   "version": "3.7.10"
  }
 },
 "nbformat": 4,
 "nbformat_minor": 5
}
