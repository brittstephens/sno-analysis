{
 "cells": [
  {
   "cell_type": "markdown",
   "id": "edae5028-05ef-4367-b4a3-e9c0597f106f",
   "metadata": {},
   "source": [
    "# Compute N<sub>2</sub> fluxes from ERA5 heat fluxes"
   ]
  },
  {
   "cell_type": "code",
   "execution_count": 1,
   "id": "c9f9206c-00e7-4674-b501-4823ad4004f2",
   "metadata": {},
   "outputs": [],
   "source": [
    "import os\n",
    "import yaml\n",
    "import xarray as xr\n",
    "\n",
    "import cdsapi\n",
    "\n",
    "import config"
   ]
  },
  {
   "cell_type": "markdown",
   "id": "22624ec7-1019-41e5-9d5b-8608d0c7bd32",
   "metadata": {},
   "source": [
    "## Get the heat flux"
   ]
  },
  {
   "cell_type": "code",
   "execution_count": null,
   "id": "d093d606-747e-48b4-a582-2b04eaf96bc3",
   "metadata": {},
   "outputs": [
    {
     "name": "stderr",
     "output_type": "stream",
     "text": [
      "/glade/work/mclong/miniconda3/envs/sno/lib/python3.7/site-packages/urllib3/connectionpool.py:1020: InsecureRequestWarning: Unverified HTTPS request is being made to host 'cds.climate.copernicus.eu'. Adding certificate verification is strongly advised. See: https://urllib3.readthedocs.io/en/1.26.x/advanced-usage.html#ssl-warnings\n",
      "  InsecureRequestWarning,\n",
      "2021-09-22 12:06:30,262 INFO Welcome to the CDS\n",
      "2021-09-22 12:06:30,263 INFO Sending request to https://cds.climate.copernicus.eu/api/v2/resources/reanalysis-era5-single-levels-monthly-means\n",
      "/glade/work/mclong/miniconda3/envs/sno/lib/python3.7/site-packages/urllib3/connectionpool.py:1020: InsecureRequestWarning: Unverified HTTPS request is being made to host 'cds.climate.copernicus.eu'. Adding certificate verification is strongly advised. See: https://urllib3.readthedocs.io/en/1.26.x/advanced-usage.html#ssl-warnings\n",
      "  InsecureRequestWarning,\n",
      "2021-09-22 12:06:30,391 INFO Request is queued\n",
      "/glade/work/mclong/miniconda3/envs/sno/lib/python3.7/site-packages/urllib3/connectionpool.py:1020: InsecureRequestWarning: Unverified HTTPS request is being made to host 'cds.climate.copernicus.eu'. Adding certificate verification is strongly advised. See: https://urllib3.readthedocs.io/en/1.26.x/advanced-usage.html#ssl-warnings\n",
      "  InsecureRequestWarning,\n",
      "/glade/work/mclong/miniconda3/envs/sno/lib/python3.7/site-packages/urllib3/connectionpool.py:1020: InsecureRequestWarning: Unverified HTTPS request is being made to host 'cds.climate.copernicus.eu'. Adding certificate verification is strongly advised. See: https://urllib3.readthedocs.io/en/1.26.x/advanced-usage.html#ssl-warnings\n",
      "  InsecureRequestWarning,\n",
      "2021-09-22 12:06:33,144 INFO Request is running\n",
      "/glade/work/mclong/miniconda3/envs/sno/lib/python3.7/site-packages/urllib3/connectionpool.py:1020: InsecureRequestWarning: Unverified HTTPS request is being made to host 'cds.climate.copernicus.eu'. Adding certificate verification is strongly advised. See: https://urllib3.readthedocs.io/en/1.26.x/advanced-usage.html#ssl-warnings\n",
      "  InsecureRequestWarning,\n",
      "/glade/work/mclong/miniconda3/envs/sno/lib/python3.7/site-packages/urllib3/connectionpool.py:1020: InsecureRequestWarning: Unverified HTTPS request is being made to host 'cds.climate.copernicus.eu'. Adding certificate verification is strongly advised. See: https://urllib3.readthedocs.io/en/1.26.x/advanced-usage.html#ssl-warnings\n",
      "  InsecureRequestWarning,\n",
      "/glade/work/mclong/miniconda3/envs/sno/lib/python3.7/site-packages/urllib3/connectionpool.py:1020: InsecureRequestWarning: Unverified HTTPS request is being made to host 'cds.climate.copernicus.eu'. Adding certificate verification is strongly advised. See: https://urllib3.readthedocs.io/en/1.26.x/advanced-usage.html#ssl-warnings\n",
      "  InsecureRequestWarning,\n",
      "/glade/work/mclong/miniconda3/envs/sno/lib/python3.7/site-packages/urllib3/connectionpool.py:1020: InsecureRequestWarning: Unverified HTTPS request is being made to host 'cds.climate.copernicus.eu'. Adding certificate verification is strongly advised. See: https://urllib3.readthedocs.io/en/1.26.x/advanced-usage.html#ssl-warnings\n",
      "  InsecureRequestWarning,\n",
      "/glade/work/mclong/miniconda3/envs/sno/lib/python3.7/site-packages/urllib3/connectionpool.py:1020: InsecureRequestWarning: Unverified HTTPS request is being made to host 'cds.climate.copernicus.eu'. Adding certificate verification is strongly advised. See: https://urllib3.readthedocs.io/en/1.26.x/advanced-usage.html#ssl-warnings\n",
      "  InsecureRequestWarning,\n",
      "/glade/work/mclong/miniconda3/envs/sno/lib/python3.7/site-packages/urllib3/connectionpool.py:1020: InsecureRequestWarning: Unverified HTTPS request is being made to host 'cds.climate.copernicus.eu'. Adding certificate verification is strongly advised. See: https://urllib3.readthedocs.io/en/1.26.x/advanced-usage.html#ssl-warnings\n",
      "  InsecureRequestWarning,\n",
      "/glade/work/mclong/miniconda3/envs/sno/lib/python3.7/site-packages/urllib3/connectionpool.py:1020: InsecureRequestWarning: Unverified HTTPS request is being made to host 'cds.climate.copernicus.eu'. Adding certificate verification is strongly advised. See: https://urllib3.readthedocs.io/en/1.26.x/advanced-usage.html#ssl-warnings\n",
      "  InsecureRequestWarning,\n",
      "/glade/work/mclong/miniconda3/envs/sno/lib/python3.7/site-packages/urllib3/connectionpool.py:1020: InsecureRequestWarning: Unverified HTTPS request is being made to host 'cds.climate.copernicus.eu'. Adding certificate verification is strongly advised. See: https://urllib3.readthedocs.io/en/1.26.x/advanced-usage.html#ssl-warnings\n",
      "  InsecureRequestWarning,\n",
      "/glade/work/mclong/miniconda3/envs/sno/lib/python3.7/site-packages/urllib3/connectionpool.py:1020: InsecureRequestWarning: Unverified HTTPS request is being made to host 'cds.climate.copernicus.eu'. Adding certificate verification is strongly advised. See: https://urllib3.readthedocs.io/en/1.26.x/advanced-usage.html#ssl-warnings\n",
      "  InsecureRequestWarning,\n",
      "/glade/work/mclong/miniconda3/envs/sno/lib/python3.7/site-packages/urllib3/connectionpool.py:1020: InsecureRequestWarning: Unverified HTTPS request is being made to host 'cds.climate.copernicus.eu'. Adding certificate verification is strongly advised. See: https://urllib3.readthedocs.io/en/1.26.x/advanced-usage.html#ssl-warnings\n",
      "  InsecureRequestWarning,\n",
      "/glade/work/mclong/miniconda3/envs/sno/lib/python3.7/site-packages/urllib3/connectionpool.py:1020: InsecureRequestWarning: Unverified HTTPS request is being made to host 'cds.climate.copernicus.eu'. Adding certificate verification is strongly advised. See: https://urllib3.readthedocs.io/en/1.26.x/advanced-usage.html#ssl-warnings\n",
      "  InsecureRequestWarning,\n",
      "/glade/work/mclong/miniconda3/envs/sno/lib/python3.7/site-packages/urllib3/connectionpool.py:1020: InsecureRequestWarning: Unverified HTTPS request is being made to host 'cds.climate.copernicus.eu'. Adding certificate verification is strongly advised. See: https://urllib3.readthedocs.io/en/1.26.x/advanced-usage.html#ssl-warnings\n",
      "  InsecureRequestWarning,\n",
      "/glade/work/mclong/miniconda3/envs/sno/lib/python3.7/site-packages/urllib3/connectionpool.py:1020: InsecureRequestWarning: Unverified HTTPS request is being made to host 'cds.climate.copernicus.eu'. Adding certificate verification is strongly advised. See: https://urllib3.readthedocs.io/en/1.26.x/advanced-usage.html#ssl-warnings\n",
      "  InsecureRequestWarning,\n",
      "2021-09-22 12:16:51,567 INFO Request is completed\n",
      "2021-09-22 12:16:51,567 INFO Downloading https://download-0007.copernicus-climate.eu/cache-compute-0007/cache/data6/adaptor.mars.internal-1632334306.7679532-28095-16-1c5e22cb-8b37-4a68-83ae-1492795fda32.nc to /glade/work/mclong/sno-analysis/intake-cache/era5.mean_surface_heat_fluxes.1990-2020.nc (3.6G)\n",
      "/glade/work/mclong/miniconda3/envs/sno/lib/python3.7/site-packages/urllib3/connectionpool.py:1020: InsecureRequestWarning: Unverified HTTPS request is being made to host 'download-0007.copernicus-climate.eu'. Adding certificate verification is strongly advised. See: https://urllib3.readthedocs.io/en/1.26.x/advanced-usage.html#ssl-warnings\n",
      "  InsecureRequestWarning,\n",
      " 68%|██████▊   | 2.43G/3.60G [12:45<03:19, 6.25MB/s]   "
     ]
    }
   ],
   "source": [
    "year0, yearf = 1990, 2021\n",
    "\n",
    "file_out = f\"{config.intake_cachedir}/era5.mean_surface_heat_fluxes.{year0:04d}-{yearf-1:04d}.nc\"\n",
    "\n",
    "if not os.path.exists(file_out):\n",
    "    \n",
    "    try:\n",
    "        with open(\"ecmwf_credentials.yaml\") as fid:\n",
    "            credentials = yaml.safe_load(fid)\n",
    "    except:\n",
    "        raise    \n",
    "    \n",
    "    c = cdsapi.Client(**credentials)\n",
    "    c.retrieve(\n",
    "        'reanalysis-era5-single-levels-monthly-means',\n",
    "        {\n",
    "            'format': 'netcdf',\n",
    "            'variable': [\n",
    "                'mean_surface_latent_heat_flux', \n",
    "                'mean_surface_net_long_wave_radiation_flux', \n",
    "                'mean_surface_net_short_wave_radiation_flux',\n",
    "                'mean_surface_sensible_heat_flux',\n",
    "                'sea_surface_temperature',\n",
    "            ],\n",
    "            'year': [f\"{y:04d}\" for y in range(year0, yearf)],\n",
    "            'month': [f\"{m:02d}\" for m in range(1, 13)],\n",
    "            'time': '00:00',\n",
    "            'product_type': 'monthly_averaged_reanalysis',\n",
    "        },\n",
    "        file_out)\n",
    "    \n",
    "ds = xr.open_dataset(file_out)\n",
    "ds    "
   ]
  },
  {
   "cell_type": "code",
   "execution_count": null,
   "id": "4fd53c1f-6637-45d9-8b20-52b23c66cf61",
   "metadata": {},
   "outputs": [],
   "source": []
  },
  {
   "cell_type": "code",
   "execution_count": null,
   "id": "18ee0acb-2e0a-448d-bf6c-a05d7c514e25",
   "metadata": {},
   "outputs": [],
   "source": [
    "for v in ds.data_vars:\n",
    "    print(f\"{v}: {ds[v].attrs['long_name']}\")"
   ]
  },
  {
   "cell_type": "code",
   "execution_count": null,
   "id": "4cb29ec1-9eca-4029-a7f6-cb9114e2a886",
   "metadata": {},
   "outputs": [],
   "source": [
    "dsi = xr.open_dataset(\"/glade/work/whokim/data/ERA5/ERA5_srfc_fluxes_mean_rate.nc\")\n",
    "for v in dsi.data_vars:\n",
    "    print(f\"{v}: {dsi[v].attrs['long_name']}\")"
   ]
  },
  {
   "cell_type": "code",
   "execution_count": null,
   "id": "2a9e6424-8a16-4817-b73f-f2b9f94e07f0",
   "metadata": {},
   "outputs": [],
   "source": []
  }
 ],
 "metadata": {
  "kernelspec": {
   "display_name": "Python [conda env:miniconda3-sno]",
   "language": "python",
   "name": "conda-env-miniconda3-sno-py"
  },
  "language_info": {
   "codemirror_mode": {
    "name": "ipython",
    "version": 3
   },
   "file_extension": ".py",
   "mimetype": "text/x-python",
   "name": "python",
   "nbconvert_exporter": "python",
   "pygments_lexer": "ipython3",
   "version": "3.7.11"
  }
 },
 "nbformat": 4,
 "nbformat_minor": 5
}
